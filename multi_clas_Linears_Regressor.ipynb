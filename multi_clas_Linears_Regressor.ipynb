{
 "cells": [
  {
   "cell_type": "markdown",
   "id": "ce3cd28f-cd9c-44f5-9d8a-20e139abc4c9",
   "metadata": {},
   "source": [
    "# **Multiclass Linear Regression ..**"
   ]
  },
  {
   "cell_type": "code",
   "execution_count": 1,
   "id": "d86e19eb-6c1f-4262-a90b-fd21156e5873",
   "metadata": {
    "tags": []
   },
   "outputs": [],
   "source": [
    "using MLJ,DataFrames\n",
    "using Markdown\n",
    "using CSV"
   ]
  },
  {
   "cell_type": "markdown",
   "id": "ee5e8c5e-08e3-47a3-8616-c2af749dc0df",
   "metadata": {},
   "source": [
    "## **Load Dataset and convert it to a Dataframe ..**"
   ]
  },
  {
   "cell_type": "code",
   "execution_count": null,
   "id": "3c4bfce9-8040-4e00-9763-c36e73128aa8",
   "metadata": {
    "tags": []
   },
   "outputs": [],
   "source": [
    "df=CSV.read(\"50_Startups.csv\",DataFrame)"
   ]
  },
  {
   "cell_type": "code",
   "execution_count": null,
   "id": "cbf6e710-a164-41e2-904d-7adae969be0b",
   "metadata": {
    "tags": []
   },
   "outputs": [],
   "source": [
    "describe(df)"
   ]
  },
  {
   "cell_type": "markdown",
   "id": "61d1b24c-ce5b-4270-afe4-30b6095f71e6",
   "metadata": {
    "tags": []
   },
   "source": [
    "## **Lets see the matemathical type of each row..**\n",
    " #### ***oops!! the \"state\" row is a textual type(We have to do something) !!***\n",
    " "
   ]
  },
  {
   "cell_type": "code",
   "execution_count": null,
   "id": "020fc76f-ba8a-4a80-ab42-a6acc2cee0c9",
   "metadata": {
    "tags": []
   },
   "outputs": [],
   "source": [
    "schema(df)"
   ]
  },
  {
   "cell_type": "markdown",
   "id": "b3cca486-5a7f-44fa-98c0-e6f8d623d776",
   "metadata": {},
   "source": [
    "### **The 4 First ow are independant so they can be use as feature(X) and the last row will be the Target (y)**"
   ]
  },
  {
   "cell_type": "code",
   "execution_count": null,
   "id": "0c7f8ddc-7ab8-4462-bd72-2d8515ad1c45",
   "metadata": {
    "tags": []
   },
   "outputs": [],
   "source": [
    "x=df[!,1:4]\n",
    "y=df.Profit"
   ]
  },
  {
   "cell_type": "markdown",
   "id": "75768a12-4783-493e-aba3-3038cb97e093",
   "metadata": {},
   "source": [
    "## **Convert textual value to multiclass using one hot encoder.**"
   ]
  },
  {
   "cell_type": "code",
   "execution_count": null,
   "id": "68e098df-9f7b-44b4-bbdc-d235058095a4",
   "metadata": {
    "tags": []
   },
   "outputs": [],
   "source": [
    "coerce!(x,:State=>Multiclass)"
   ]
  },
  {
   "cell_type": "code",
   "execution_count": null,
   "id": "52e826a2-708a-461b-936b-a672fb35edd3",
   "metadata": {
    "tags": []
   },
   "outputs": [],
   "source": [
    "ce=ContinuousEncoder()"
   ]
  },
  {
   "cell_type": "code",
   "execution_count": null,
   "id": "67d36c36-eb6b-4877-9e79-e7979720825c",
   "metadata": {
    "tags": []
   },
   "outputs": [],
   "source": [
    "x=machine(ce,x)|>fit!|>MLJ.transform"
   ]
  },
  {
   "cell_type": "markdown",
   "id": "ba90e2f4-7d72-4012-8ab9-824847377fca",
   "metadata": {
    "tags": []
   },
   "source": [
    "## **Spliting**"
   ]
  },
  {
   "cell_type": "code",
   "execution_count": null,
   "id": "e483f2d0-c2fe-4d23-bb0b-1b517def4aad",
   "metadata": {
    "tags": []
   },
   "outputs": [],
   "source": [
    "train,test=partition(eachindex(y),.8,shuffle=true,rng=123)"
   ]
  },
  {
   "cell_type": "code",
   "execution_count": null,
   "id": "2b65c407-0ddd-4ae8-b726-7e8c734c44e3",
   "metadata": {
    "tags": []
   },
   "outputs": [],
   "source": [
    "Xtrain,Xtest=x[train,:],x[test, :]\n"
   ]
  },
  {
   "cell_type": "code",
   "execution_count": null,
   "id": "69c9e215-edf1-41dd-960e-2cec84f9e51a",
   "metadata": {
    "tags": []
   },
   "outputs": [],
   "source": [
    "Ytrain,Ytest=y[train],y[test]"
   ]
  },
  {
   "cell_type": "markdown",
   "id": "20c2b731-9974-4c93-b7d5-3bacc79f8835",
   "metadata": {
    "tags": []
   },
   "source": [
    "## **Load Linear Regressor from MLJ**"
   ]
  },
  {
   "cell_type": "code",
   "execution_count": null,
   "id": "2c0ff1d3-cf11-48ee-aae8-5999e14bd0cc",
   "metadata": {
    "tags": []
   },
   "outputs": [],
   "source": [
    "LR=@load LinearRegressor pkg=MLJLinearModels"
   ]
  },
  {
   "cell_type": "code",
   "execution_count": null,
   "id": "75b5bef2-be1b-4210-a512-4956b6e8cf61",
   "metadata": {
    "tags": []
   },
   "outputs": [],
   "source": [
    "lr_=LR()"
   ]
  },
  {
   "cell_type": "markdown",
   "id": "5390c918-951a-44a8-ada3-b58325908253",
   "metadata": {},
   "source": [
    "## **Train and Fit**"
   ]
  },
  {
   "cell_type": "code",
   "execution_count": null,
   "id": "499e8c26-e73e-4964-9192-0daca800974d",
   "metadata": {
    "tags": []
   },
   "outputs": [],
   "source": [
    "lr=machine(lr_,Xtrain,Ytrain) |> fit!"
   ]
  },
  {
   "cell_type": "markdown",
   "id": "001e4478-f3a8-4b35-8cac-0f8c49c222c6",
   "metadata": {},
   "source": [
    "## **Show fitted parameter of training**"
   ]
  },
  {
   "cell_type": "code",
   "execution_count": null,
   "id": "68a08df0-df96-41fa-b177-836883e7febf",
   "metadata": {
    "tags": []
   },
   "outputs": [],
   "source": [
    "fitted_params(lr)"
   ]
  },
  {
   "cell_type": "code",
   "execution_count": null,
   "id": "16a89e7a-5b3b-4a90-a8d3-cba599cb98af",
   "metadata": {
    "tags": []
   },
   "outputs": [],
   "source": [
    "yhat=predict(lr,Xtest)"
   ]
  },
  {
   "cell_type": "markdown",
   "id": "4a7b0ced-4c81-4f44-87fd-b615e044853b",
   "metadata": {
    "tags": []
   },
   "source": [
    "## **The mean Squared error is ..**"
   ]
  },
  {
   "cell_type": "code",
   "execution_count": null,
   "id": "6da3c522-46d4-45b0-b758-f478c2e7cb0e",
   "metadata": {
    "tags": []
   },
   "outputs": [],
   "source": [
    "sum((yhat .- ytest).^2)"
   ]
  },
  {
   "cell_type": "markdown",
   "id": "8dd90bab-3a19-4e97-93ee-a869557d0458",
   "metadata": {},
   "source": []
  }
 ],
 "metadata": {
  "kernelspec": {
   "display_name": "Julia 1.8.2",
   "language": "julia",
   "name": "julia-1.8"
  },
  "language_info": {
   "file_extension": ".jl",
   "mimetype": "application/julia",
   "name": "julia",
   "version": "1.8.2"
  }
 },
 "nbformat": 4,
 "nbformat_minor": 5
}

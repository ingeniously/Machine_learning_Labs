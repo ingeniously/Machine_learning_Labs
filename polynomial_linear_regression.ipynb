{
 "cells": [
  {
   "cell_type": "markdown",
   "id": "ce3cd28f-cd9c-44f5-9d8a-20e139abc4c9",
   "metadata": {},
   "source": [
    "# **Polynomial Linear Regression ..**"
   ]
  },
  {
   "cell_type": "code",
   "execution_count": 1,
   "id": "d86e19eb-6c1f-4262-a90b-fd21156e5873",
   "metadata": {
    "tags": []
   },
   "outputs": [],
   "source": [
    "using MLJ,DataFrames\n",
    "using Markdown\n",
    "using Plots\n",
    "using CSV"
   ]
  },
  {
   "cell_type": "markdown",
   "id": "ee5e8c5e-08e3-47a3-8616-c2af749dc0df",
   "metadata": {},
   "source": [
    "## **Load Dataset and convert it to a Dataframe ..**"
   ]
  },
  {
   "cell_type": "code",
   "execution_count": 69,
   "id": "3c4bfce9-8040-4e00-9763-c36e73128aa8",
   "metadata": {
    "tags": []
   },
   "outputs": [
    {
     "data": {
      "text/html": [
       "<div><div style = \"float: left;\"><span>10×3 DataFrame</span></div><div style = \"clear: both;\"></div></div><div class = \"data-frame\" style = \"overflow-x: scroll;\"><table class = \"data-frame\" style = \"margin-bottom: 6px;\"><thead><tr class = \"header\"><th class = \"rowNumber\" style = \"font-weight: bold; text-align: right;\">Row</th><th style = \"text-align: left;\">Position</th><th style = \"text-align: left;\">Level</th><th style = \"text-align: left;\">Salary</th></tr><tr class = \"subheader headerLastRow\"><th class = \"rowNumber\" style = \"font-weight: bold; text-align: right;\"></th><th title = \"String31\" style = \"text-align: left;\">String31</th><th title = \"Int64\" style = \"text-align: left;\">Int64</th><th title = \"Int64\" style = \"text-align: left;\">Int64</th></tr></thead><tbody><tr><td class = \"rowNumber\" style = \"font-weight: bold; text-align: right;\">1</td><td style = \"text-align: left;\">Business Analyst</td><td style = \"text-align: right;\">1</td><td style = \"text-align: right;\">45000</td></tr><tr><td class = \"rowNumber\" style = \"font-weight: bold; text-align: right;\">2</td><td style = \"text-align: left;\">Junior Consultant</td><td style = \"text-align: right;\">2</td><td style = \"text-align: right;\">50000</td></tr><tr><td class = \"rowNumber\" style = \"font-weight: bold; text-align: right;\">3</td><td style = \"text-align: left;\">Senior Consultant</td><td style = \"text-align: right;\">3</td><td style = \"text-align: right;\">60000</td></tr><tr><td class = \"rowNumber\" style = \"font-weight: bold; text-align: right;\">4</td><td style = \"text-align: left;\">Manager</td><td style = \"text-align: right;\">4</td><td style = \"text-align: right;\">80000</td></tr><tr><td class = \"rowNumber\" style = \"font-weight: bold; text-align: right;\">5</td><td style = \"text-align: left;\">Country Manager</td><td style = \"text-align: right;\">5</td><td style = \"text-align: right;\">110000</td></tr><tr><td class = \"rowNumber\" style = \"font-weight: bold; text-align: right;\">6</td><td style = \"text-align: left;\">Region Manager</td><td style = \"text-align: right;\">6</td><td style = \"text-align: right;\">150000</td></tr><tr><td class = \"rowNumber\" style = \"font-weight: bold; text-align: right;\">7</td><td style = \"text-align: left;\">Partner</td><td style = \"text-align: right;\">7</td><td style = \"text-align: right;\">200000</td></tr><tr><td class = \"rowNumber\" style = \"font-weight: bold; text-align: right;\">8</td><td style = \"text-align: left;\">Senior Partner</td><td style = \"text-align: right;\">8</td><td style = \"text-align: right;\">300000</td></tr><tr><td class = \"rowNumber\" style = \"font-weight: bold; text-align: right;\">9</td><td style = \"text-align: left;\">C-level</td><td style = \"text-align: right;\">9</td><td style = \"text-align: right;\">500000</td></tr><tr><td class = \"rowNumber\" style = \"font-weight: bold; text-align: right;\">10</td><td style = \"text-align: left;\">CEO</td><td style = \"text-align: right;\">10</td><td style = \"text-align: right;\">1000000</td></tr></tbody></table></div>"
      ],
      "text/latex": [
       "\\begin{tabular}{r|ccc}\n",
       "\t& Position & Level & Salary\\\\\n",
       "\t\\hline\n",
       "\t& String31 & Int64 & Int64\\\\\n",
       "\t\\hline\n",
       "\t1 & Business Analyst & 1 & 45000 \\\\\n",
       "\t2 & Junior Consultant & 2 & 50000 \\\\\n",
       "\t3 & Senior Consultant & 3 & 60000 \\\\\n",
       "\t4 & Manager & 4 & 80000 \\\\\n",
       "\t5 & Country Manager & 5 & 110000 \\\\\n",
       "\t6 & Region Manager & 6 & 150000 \\\\\n",
       "\t7 & Partner & 7 & 200000 \\\\\n",
       "\t8 & Senior Partner & 8 & 300000 \\\\\n",
       "\t9 & C-level & 9 & 500000 \\\\\n",
       "\t10 & CEO & 10 & 1000000 \\\\\n",
       "\\end{tabular}\n"
      ],
      "text/plain": [
       "\u001b[1m10×3 DataFrame\n",
       "\u001b[1m Row │\u001b[1m Position          \u001b[1m Level \u001b[1m Salary\n",
       "     │\u001b[90m String31          \u001b[90m Int64 \u001b[90m Int64\n",
       "─────┼───────────────────────────────────\n",
       "   1 │ Business Analyst       1    45000\n",
       "   2 │ Junior Consultant      2    50000\n",
       "   3 │ Senior Consultant      3    60000\n",
       "   4 │ Manager                4    80000\n",
       "   5 │ Country Manager        5   110000\n",
       "   6 │ Region Manager         6   150000\n",
       "   7 │ Partner                7   200000\n",
       "   8 │ Senior Partner         8   300000\n",
       "   9 │ C-level                9   500000\n",
       "  10 │ CEO                   10  1000000"
      ]
     },
     "execution_count": 69,
     "metadata": {},
     "output_type": "execute_result"
    }
   ],
   "source": [
    "df=CSV.read(\"Position_Salaries.csv\",DataFrame)"
   ]
  },
  {
   "cell_type": "code",
   "execution_count": 70,
   "id": "cbf6e710-a164-41e2-904d-7adae969be0b",
   "metadata": {
    "tags": []
   },
   "outputs": [
    {
     "data": {
      "text/html": [
       "<div><div style = \"float: left;\"><span>3×7 DataFrame</span></div><div style = \"clear: both;\"></div></div><div class = \"data-frame\" style = \"overflow-x: scroll;\"><table class = \"data-frame\" style = \"margin-bottom: 6px;\"><thead><tr class = \"header\"><th class = \"rowNumber\" style = \"font-weight: bold; text-align: right;\">Row</th><th style = \"text-align: left;\">variable</th><th style = \"text-align: left;\">mean</th><th style = \"text-align: left;\">min</th><th style = \"text-align: left;\">median</th><th style = \"text-align: left;\">max</th><th style = \"text-align: left;\">nmissing</th><th style = \"text-align: left;\">eltype</th></tr><tr class = \"subheader headerLastRow\"><th class = \"rowNumber\" style = \"font-weight: bold; text-align: right;\"></th><th title = \"Symbol\" style = \"text-align: left;\">Symbol</th><th title = \"Union{Nothing, Float64}\" style = \"text-align: left;\">Union…</th><th title = \"Any\" style = \"text-align: left;\">Any</th><th title = \"Union{Nothing, Float64}\" style = \"text-align: left;\">Union…</th><th title = \"Any\" style = \"text-align: left;\">Any</th><th title = \"Int64\" style = \"text-align: left;\">Int64</th><th title = \"DataType\" style = \"text-align: left;\">DataType</th></tr></thead><tbody><tr><td class = \"rowNumber\" style = \"font-weight: bold; text-align: right;\">1</td><td style = \"text-align: left;\">Position</td><td style = \"font-style: italic; text-align: left;\"></td><td style = \"text-align: left;\">Business Analyst</td><td style = \"font-style: italic; text-align: left;\"></td><td style = \"text-align: left;\">Senior Partner</td><td style = \"text-align: right;\">0</td><td style = \"text-align: left;\">String31</td></tr><tr><td class = \"rowNumber\" style = \"font-weight: bold; text-align: right;\">2</td><td style = \"text-align: left;\">Level</td><td style = \"text-align: left;\">5.5</td><td style = \"text-align: left;\">1</td><td style = \"text-align: left;\">5.5</td><td style = \"text-align: left;\">10</td><td style = \"text-align: right;\">0</td><td style = \"text-align: left;\">Int64</td></tr><tr><td class = \"rowNumber\" style = \"font-weight: bold; text-align: right;\">3</td><td style = \"text-align: left;\">Salary</td><td style = \"text-align: left;\">249500.0</td><td style = \"text-align: left;\">45000</td><td style = \"text-align: left;\">130000.0</td><td style = \"text-align: left;\">1000000</td><td style = \"text-align: right;\">0</td><td style = \"text-align: left;\">Int64</td></tr></tbody></table></div>"
      ],
      "text/latex": [
       "\\begin{tabular}{r|ccccccc}\n",
       "\t& variable & mean & min & median & max & nmissing & eltype\\\\\n",
       "\t\\hline\n",
       "\t& Symbol & Union… & Any & Union… & Any & Int64 & DataType\\\\\n",
       "\t\\hline\n",
       "\t1 & Position &  & Business Analyst &  & Senior Partner & 0 & String31 \\\\\n",
       "\t2 & Level & 5.5 & 1 & 5.5 & 10 & 0 & Int64 \\\\\n",
       "\t3 & Salary & 249500.0 & 45000 & 130000.0 & 1000000 & 0 & Int64 \\\\\n",
       "\\end{tabular}\n"
      ],
      "text/plain": [
       "\u001b[1m3×7 DataFrame\n",
       "\u001b[1m Row │\u001b[1m variable \u001b[1m mean     \u001b[1m min              \u001b[1m median   \u001b[1m max            \u001b[1m nmissin ⋯\n",
       "     │\u001b[90m Symbol   \u001b[90m Union…   \u001b[90m Any              \u001b[90m Union…   \u001b[90m Any            \u001b[90m Int64   ⋯\n",
       "─────┼──────────────────────────────────────────────────────────────────────────\n",
       "   1 │ Position \u001b[90m           Business Analyst \u001b[90m           Senior Partner          ⋯\n",
       "   2 │ Level     5.5       1                 5.5       10\n",
       "   3 │ Salary    249500.0  45000             130000.0  1000000\n",
       "\u001b[36m                                                               2 columns omitted"
      ]
     },
     "execution_count": 70,
     "metadata": {},
     "output_type": "execute_result"
    }
   ],
   "source": [
    "describe(df)"
   ]
  },
  {
   "cell_type": "markdown",
   "id": "61d1b24c-ce5b-4270-afe4-30b6095f71e6",
   "metadata": {
    "tags": []
   },
   "source": [
    "## **Lets see the matemathical type of each row..**\n",
    " "
   ]
  },
  {
   "cell_type": "code",
   "execution_count": 71,
   "id": "020fc76f-ba8a-4a80-ab42-a6acc2cee0c9",
   "metadata": {
    "tags": []
   },
   "outputs": [
    {
     "data": {
      "text/plain": [
       "┌──────────┬──────────┬──────────┐\n",
       "│\u001b[22m names    │\u001b[22m scitypes │\u001b[22m types    │\n",
       "├──────────┼──────────┼──────────┤\n",
       "│ Position │ Textual  │ String31 │\n",
       "│ Level    │ Count    │ Int64    │\n",
       "│ Salary   │ Count    │ Int64    │\n",
       "└──────────┴──────────┴──────────┘\n"
      ]
     },
     "execution_count": 71,
     "metadata": {},
     "output_type": "execute_result"
    }
   ],
   "source": [
    "schema(df)"
   ]
  },
  {
   "cell_type": "markdown",
   "id": "b3cca486-5a7f-44fa-98c0-e6f8d623d776",
   "metadata": {},
   "source": [
    "### **The 4 First ow are independant so they can be use as feature(X) and the last row will be the Target (y)**"
   ]
  },
  {
   "cell_type": "code",
   "execution_count": 72,
   "id": "1a96d7dc-d14a-4912-aa3a-71bd6413e4f3",
   "metadata": {
    "tags": []
   },
   "outputs": [
    {
     "data": {
      "text/html": [
       "<div><div style = \"float: left;\"><span>10×1 DataFrame</span></div><div style = \"clear: both;\"></div></div><div class = \"data-frame\" style = \"overflow-x: scroll;\"><table class = \"data-frame\" style = \"margin-bottom: 6px;\"><thead><tr class = \"header\"><th class = \"rowNumber\" style = \"font-weight: bold; text-align: right;\">Row</th><th style = \"text-align: left;\">Level</th></tr><tr class = \"subheader headerLastRow\"><th class = \"rowNumber\" style = \"font-weight: bold; text-align: right;\"></th><th title = \"Int64\" style = \"text-align: left;\">Int64</th></tr></thead><tbody><tr><td class = \"rowNumber\" style = \"font-weight: bold; text-align: right;\">1</td><td style = \"text-align: right;\">1</td></tr><tr><td class = \"rowNumber\" style = \"font-weight: bold; text-align: right;\">2</td><td style = \"text-align: right;\">2</td></tr><tr><td class = \"rowNumber\" style = \"font-weight: bold; text-align: right;\">3</td><td style = \"text-align: right;\">3</td></tr><tr><td class = \"rowNumber\" style = \"font-weight: bold; text-align: right;\">4</td><td style = \"text-align: right;\">4</td></tr><tr><td class = \"rowNumber\" style = \"font-weight: bold; text-align: right;\">5</td><td style = \"text-align: right;\">5</td></tr><tr><td class = \"rowNumber\" style = \"font-weight: bold; text-align: right;\">6</td><td style = \"text-align: right;\">6</td></tr><tr><td class = \"rowNumber\" style = \"font-weight: bold; text-align: right;\">7</td><td style = \"text-align: right;\">7</td></tr><tr><td class = \"rowNumber\" style = \"font-weight: bold; text-align: right;\">8</td><td style = \"text-align: right;\">8</td></tr><tr><td class = \"rowNumber\" style = \"font-weight: bold; text-align: right;\">9</td><td style = \"text-align: right;\">9</td></tr><tr><td class = \"rowNumber\" style = \"font-weight: bold; text-align: right;\">10</td><td style = \"text-align: right;\">10</td></tr></tbody></table></div>"
      ],
      "text/latex": [
       "\\begin{tabular}{r|c}\n",
       "\t& Level\\\\\n",
       "\t\\hline\n",
       "\t& Int64\\\\\n",
       "\t\\hline\n",
       "\t1 & 1 \\\\\n",
       "\t2 & 2 \\\\\n",
       "\t3 & 3 \\\\\n",
       "\t4 & 4 \\\\\n",
       "\t5 & 5 \\\\\n",
       "\t6 & 6 \\\\\n",
       "\t7 & 7 \\\\\n",
       "\t8 & 8 \\\\\n",
       "\t9 & 9 \\\\\n",
       "\t10 & 10 \\\\\n",
       "\\end{tabular}\n"
      ],
      "text/plain": [
       "\u001b[1m10×1 DataFrame\n",
       "\u001b[1m Row │\u001b[1m Level\n",
       "     │\u001b[90m Int64\n",
       "─────┼───────\n",
       "   1 │     1\n",
       "   2 │     2\n",
       "   3 │     3\n",
       "   4 │     4\n",
       "   5 │     5\n",
       "   6 │     6\n",
       "   7 │     7\n",
       "   8 │     8\n",
       "   9 │     9\n",
       "  10 │    10"
      ]
     },
     "execution_count": 72,
     "metadata": {},
     "output_type": "execute_result"
    }
   ],
   "source": [
    "x=select(df,:Level)\n"
   ]
  },
  {
   "cell_type": "code",
   "execution_count": 73,
   "id": "f84ac553-9995-4373-b482-1e06a802af3b",
   "metadata": {
    "tags": []
   },
   "outputs": [
    {
     "data": {
      "text/plain": [
       "10×4 Matrix{Float64}:\n",
       " 0.0  0.0  0.0  0.0\n",
       " 0.0  0.0  0.0  0.0\n",
       " 0.0  0.0  0.0  0.0\n",
       " 0.0  0.0  0.0  0.0\n",
       " 0.0  0.0  0.0  0.0\n",
       " 0.0  0.0  0.0  0.0\n",
       " 0.0  0.0  0.0  0.0\n",
       " 0.0  0.0  0.0  0.0\n",
       " 0.0  0.0  0.0  0.0\n",
       " 0.0  0.0  0.0  0.0"
      ]
     },
     "execution_count": 73,
     "metadata": {},
     "output_type": "execute_result"
    }
   ],
   "source": [
    "n=4\n",
    "X=zeros(size(x)[1],n)"
   ]
  },
  {
   "cell_type": "code",
   "execution_count": 74,
   "id": "7ae8673c-faa2-44a4-ab06-07176f115ac4",
   "metadata": {
    "tags": []
   },
   "outputs": [
    {
     "data": {
      "text/plain": [
       "10-element Vector{Int64}:\n",
       "   45000\n",
       "   50000\n",
       "   60000\n",
       "   80000\n",
       "  110000\n",
       "  150000\n",
       "  200000\n",
       "  300000\n",
       "  500000\n",
       " 1000000"
      ]
     },
     "execution_count": 74,
     "metadata": {},
     "output_type": "execute_result"
    }
   ],
   "source": [
    "y=df.Salary"
   ]
  },
  {
   "cell_type": "markdown",
   "id": "ba90e2f4-7d72-4012-8ab9-824847377fca",
   "metadata": {
    "tags": []
   },
   "source": [
    "## **Spliting**"
   ]
  },
  {
   "cell_type": "code",
   "execution_count": 75,
   "id": "e483f2d0-c2fe-4d23-bb0b-1b517def4aad",
   "metadata": {
    "tags": []
   },
   "outputs": [
    {
     "data": {
      "text/plain": [
       "([9, 7, 6, 4, 10, 1, 8, 2], [3, 5])"
      ]
     },
     "execution_count": 75,
     "metadata": {},
     "output_type": "execute_result"
    }
   ],
   "source": [
    "train,test=partition(eachindex(y),.8,shuffle=true,rng=123)"
   ]
  },
  {
   "cell_type": "code",
   "execution_count": 76,
   "id": "2b65c407-0ddd-4ae8-b726-7e8c734c44e3",
   "metadata": {
    "tags": []
   },
   "outputs": [
    {
     "data": {
      "text/plain": [
       "([0.0 0.0 0.0 0.0; 0.0 0.0 0.0 0.0; … ; 0.0 0.0 0.0 0.0; 0.0 0.0 0.0 0.0], [0.0 0.0 0.0 0.0; 0.0 0.0 0.0 0.0])"
      ]
     },
     "execution_count": 76,
     "metadata": {},
     "output_type": "execute_result"
    }
   ],
   "source": [
    "Xtrain,Xtest=X[train,:],X[test, :]\n"
   ]
  },
  {
   "cell_type": "code",
   "execution_count": 77,
   "id": "69c9e215-edf1-41dd-960e-2cec84f9e51a",
   "metadata": {
    "tags": []
   },
   "outputs": [
    {
     "data": {
      "text/plain": [
       "([500000, 200000, 150000, 80000, 1000000, 45000, 300000, 50000], [60000, 110000])"
      ]
     },
     "execution_count": 77,
     "metadata": {},
     "output_type": "execute_result"
    }
   ],
   "source": [
    "ytrain,ytest=y[train],y[test]"
   ]
  },
  {
   "cell_type": "markdown",
   "id": "20c2b731-9974-4c93-b7d5-3bacc79f8835",
   "metadata": {
    "tags": []
   },
   "source": [
    "## **Load Linear Regressor from MLJ**"
   ]
  },
  {
   "cell_type": "code",
   "execution_count": 78,
   "id": "2c0ff1d3-cf11-48ee-aae8-5999e14bd0cc",
   "metadata": {
    "tags": []
   },
   "outputs": [
    {
     "name": "stdout",
     "output_type": "stream",
     "text": [
      "import MLJLinearModels ✔\n"
     ]
    },
    {
     "name": "stderr",
     "output_type": "stream",
     "text": [
      "\u001b[36m\u001b[1m[ \u001b[22m\u001b[39m\u001b[36m\u001b[1mInfo: \u001b[22m\u001b[39mFor silent loading, specify `verbosity=0`. \n"
     ]
    },
    {
     "data": {
      "text/plain": [
       "MLJLinearModels.LinearRegressor"
      ]
     },
     "execution_count": 78,
     "metadata": {},
     "output_type": "execute_result"
    }
   ],
   "source": [
    "LR=@load LinearRegressor pkg=MLJLinearModels"
   ]
  },
  {
   "cell_type": "code",
   "execution_count": 79,
   "id": "75b5bef2-be1b-4210-a512-4956b6e8cf61",
   "metadata": {
    "tags": []
   },
   "outputs": [
    {
     "data": {
      "text/plain": [
       "LinearRegressor(\n",
       "  fit_intercept = true, \n",
       "  solver = nothing)"
      ]
     },
     "execution_count": 79,
     "metadata": {},
     "output_type": "execute_result"
    }
   ],
   "source": [
    "lr_=LR()"
   ]
  },
  {
   "cell_type": "code",
   "execution_count": 80,
   "id": "c776d8ab-fe17-4d48-b236-d0fc88ff2bfa",
   "metadata": {
    "tags": []
   },
   "outputs": [
    {
     "data": {
      "text/plain": [
       "Standardizer(\n",
       "  features = Symbol[], \n",
       "  ignore = false, \n",
       "  ordered_factor = false, \n",
       "  count = false)"
      ]
     },
     "execution_count": 80,
     "metadata": {},
     "output_type": "execute_result"
    }
   ],
   "source": [
    "sc_=Standardizer()"
   ]
  },
  {
   "cell_type": "code",
   "execution_count": 81,
   "id": "87bd0ae6-95c2-4c94-9611-906b6c9306b9",
   "metadata": {
    "tags": []
   },
   "outputs": [
    {
     "name": "stderr",
     "output_type": "stream",
     "text": [
      "\u001b[33m\u001b[1m┌ \u001b[22m\u001b[39m\u001b[33m\u001b[1mWarning: \u001b[22m\u001b[39mThe number and/or types of data arguments do not match what the specified model\n",
      "\u001b[33m\u001b[1m│ \u001b[22m\u001b[39msupports. Suppress this type check by specifying `scitype_check_level=0`.\n",
      "\u001b[33m\u001b[1m│ \u001b[22m\u001b[39m\n",
      "\u001b[33m\u001b[1m│ \u001b[22m\u001b[39mRun `@doc MLJModels.Standardizer` to learn more about your model's requirements.\n",
      "\u001b[33m\u001b[1m│ \u001b[22m\u001b[39m\n",
      "\u001b[33m\u001b[1m│ \u001b[22m\u001b[39mCommonly, but non exclusively, supervised models are constructed using the syntax\n",
      "\u001b[33m\u001b[1m│ \u001b[22m\u001b[39m`machine(model, X, y)` or `machine(model, X, y, w)` while most other models are\n",
      "\u001b[33m\u001b[1m│ \u001b[22m\u001b[39mconstructed with `machine(model, X)`.  Here `X` are features, `y` a target, and `w`\n",
      "\u001b[33m\u001b[1m│ \u001b[22m\u001b[39msample or class weights.\n",
      "\u001b[33m\u001b[1m│ \u001b[22m\u001b[39m\n",
      "\u001b[33m\u001b[1m│ \u001b[22m\u001b[39mIn general, data in `machine(model, data...)` is expected to satisfy\n",
      "\u001b[33m\u001b[1m│ \u001b[22m\u001b[39m\n",
      "\u001b[33m\u001b[1m│ \u001b[22m\u001b[39m    scitype(data) <: MLJ.fit_data_scitype(model)\n",
      "\u001b[33m\u001b[1m│ \u001b[22m\u001b[39m\n",
      "\u001b[33m\u001b[1m│ \u001b[22m\u001b[39mIn the present case:\n",
      "\u001b[33m\u001b[1m│ \u001b[22m\u001b[39m\n",
      "\u001b[33m\u001b[1m│ \u001b[22m\u001b[39mscitype(data) = Tuple{AbstractVector{Count}}\n",
      "\u001b[33m\u001b[1m│ \u001b[22m\u001b[39m\n",
      "\u001b[33m\u001b[1m│ \u001b[22m\u001b[39mfit_data_scitype(model) = Tuple{Union{Table, AbstractVector{<:Continuous}}}\n",
      "\u001b[33m\u001b[1m└ \u001b[22m\u001b[39m\u001b[90m@ MLJBase ~/.julia/packages/MLJBase/uxwHr/src/machines.jl:230\u001b[39m\n",
      "\u001b[36m\u001b[1m[ \u001b[22m\u001b[39m\u001b[36m\u001b[1mInfo: \u001b[22m\u001b[39mTraining machine(Standardizer(features = Symbol[], …), …).\n",
      "\u001b[33m\u001b[1m┌ \u001b[22m\u001b[39m\u001b[33m\u001b[1mWarning: \u001b[22m\u001b[39mThe number and/or types of data arguments do not match what the specified model\n",
      "\u001b[33m\u001b[1m│ \u001b[22m\u001b[39msupports. Suppress this type check by specifying `scitype_check_level=0`.\n",
      "\u001b[33m\u001b[1m│ \u001b[22m\u001b[39m\n",
      "\u001b[33m\u001b[1m│ \u001b[22m\u001b[39mRun `@doc MLJModels.Standardizer` to learn more about your model's requirements.\n",
      "\u001b[33m\u001b[1m│ \u001b[22m\u001b[39m\n",
      "\u001b[33m\u001b[1m│ \u001b[22m\u001b[39mCommonly, but non exclusively, supervised models are constructed using the syntax\n",
      "\u001b[33m\u001b[1m│ \u001b[22m\u001b[39m`machine(model, X, y)` or `machine(model, X, y, w)` while most other models are\n",
      "\u001b[33m\u001b[1m│ \u001b[22m\u001b[39mconstructed with `machine(model, X)`.  Here `X` are features, `y` a target, and `w`\n",
      "\u001b[33m\u001b[1m│ \u001b[22m\u001b[39msample or class weights.\n",
      "\u001b[33m\u001b[1m│ \u001b[22m\u001b[39m\n",
      "\u001b[33m\u001b[1m│ \u001b[22m\u001b[39mIn general, data in `machine(model, data...)` is expected to satisfy\n",
      "\u001b[33m\u001b[1m│ \u001b[22m\u001b[39m\n",
      "\u001b[33m\u001b[1m│ \u001b[22m\u001b[39m    scitype(data) <: MLJ.fit_data_scitype(model)\n",
      "\u001b[33m\u001b[1m│ \u001b[22m\u001b[39m\n",
      "\u001b[33m\u001b[1m│ \u001b[22m\u001b[39mIn the present case:\n",
      "\u001b[33m\u001b[1m│ \u001b[22m\u001b[39m\n",
      "\u001b[33m\u001b[1m│ \u001b[22m\u001b[39mscitype(data) = Tuple{AbstractVector{Count}}\n",
      "\u001b[33m\u001b[1m│ \u001b[22m\u001b[39m\n",
      "\u001b[33m\u001b[1m│ \u001b[22m\u001b[39mfit_data_scitype(model) = Tuple{Union{Table, AbstractVector{<:Continuous}}}\n",
      "\u001b[33m\u001b[1m└ \u001b[22m\u001b[39m\u001b[90m@ MLJBase ~/.julia/packages/MLJBase/uxwHr/src/machines.jl:230\u001b[39m\n",
      "\u001b[36m\u001b[1m[ \u001b[22m\u001b[39m\u001b[36m\u001b[1mInfo: \u001b[22m\u001b[39mTraining machine(Standardizer(features = Symbol[], …), …).\n",
      "\u001b[33m\u001b[1m┌ \u001b[22m\u001b[39m\u001b[33m\u001b[1mWarning: \u001b[22m\u001b[39mThe number and/or types of data arguments do not match what the specified model\n",
      "\u001b[33m\u001b[1m│ \u001b[22m\u001b[39msupports. Suppress this type check by specifying `scitype_check_level=0`.\n",
      "\u001b[33m\u001b[1m│ \u001b[22m\u001b[39m\n",
      "\u001b[33m\u001b[1m│ \u001b[22m\u001b[39mRun `@doc MLJModels.Standardizer` to learn more about your model's requirements.\n",
      "\u001b[33m\u001b[1m│ \u001b[22m\u001b[39m\n",
      "\u001b[33m\u001b[1m│ \u001b[22m\u001b[39mCommonly, but non exclusively, supervised models are constructed using the syntax\n",
      "\u001b[33m\u001b[1m│ \u001b[22m\u001b[39m`machine(model, X, y)` or `machine(model, X, y, w)` while most other models are\n",
      "\u001b[33m\u001b[1m│ \u001b[22m\u001b[39mconstructed with `machine(model, X)`.  Here `X` are features, `y` a target, and `w`\n",
      "\u001b[33m\u001b[1m│ \u001b[22m\u001b[39msample or class weights.\n",
      "\u001b[33m\u001b[1m│ \u001b[22m\u001b[39m\n",
      "\u001b[33m\u001b[1m│ \u001b[22m\u001b[39mIn general, data in `machine(model, data...)` is expected to satisfy\n",
      "\u001b[33m\u001b[1m│ \u001b[22m\u001b[39m\n",
      "\u001b[33m\u001b[1m│ \u001b[22m\u001b[39m    scitype(data) <: MLJ.fit_data_scitype(model)\n",
      "\u001b[33m\u001b[1m│ \u001b[22m\u001b[39m\n",
      "\u001b[33m\u001b[1m│ \u001b[22m\u001b[39mIn the present case:\n",
      "\u001b[33m\u001b[1m│ \u001b[22m\u001b[39m\n",
      "\u001b[33m\u001b[1m│ \u001b[22m\u001b[39mscitype(data) = Tuple{AbstractVector{Count}}\n",
      "\u001b[33m\u001b[1m│ \u001b[22m\u001b[39m\n",
      "\u001b[33m\u001b[1m│ \u001b[22m\u001b[39mfit_data_scitype(model) = Tuple{Union{Table, AbstractVector{<:Continuous}}}\n",
      "\u001b[33m\u001b[1m└ \u001b[22m\u001b[39m\u001b[90m@ MLJBase ~/.julia/packages/MLJBase/uxwHr/src/machines.jl:230\u001b[39m\n",
      "\u001b[36m\u001b[1m[ \u001b[22m\u001b[39m\u001b[36m\u001b[1mInfo: \u001b[22m\u001b[39mTraining machine(Standardizer(features = Symbol[], …), …).\n",
      "\u001b[33m\u001b[1m┌ \u001b[22m\u001b[39m\u001b[33m\u001b[1mWarning: \u001b[22m\u001b[39mThe number and/or types of data arguments do not match what the specified model\n",
      "\u001b[33m\u001b[1m│ \u001b[22m\u001b[39msupports. Suppress this type check by specifying `scitype_check_level=0`.\n",
      "\u001b[33m\u001b[1m│ \u001b[22m\u001b[39m\n",
      "\u001b[33m\u001b[1m│ \u001b[22m\u001b[39mRun `@doc MLJModels.Standardizer` to learn more about your model's requirements.\n",
      "\u001b[33m\u001b[1m│ \u001b[22m\u001b[39m\n",
      "\u001b[33m\u001b[1m│ \u001b[22m\u001b[39mCommonly, but non exclusively, supervised models are constructed using the syntax\n",
      "\u001b[33m\u001b[1m│ \u001b[22m\u001b[39m`machine(model, X, y)` or `machine(model, X, y, w)` while most other models are\n",
      "\u001b[33m\u001b[1m│ \u001b[22m\u001b[39mconstructed with `machine(model, X)`.  Here `X` are features, `y` a target, and `w`\n",
      "\u001b[33m\u001b[1m│ \u001b[22m\u001b[39msample or class weights.\n",
      "\u001b[33m\u001b[1m│ \u001b[22m\u001b[39m\n",
      "\u001b[33m\u001b[1m│ \u001b[22m\u001b[39mIn general, data in `machine(model, data...)` is expected to satisfy\n",
      "\u001b[33m\u001b[1m│ \u001b[22m\u001b[39m\n",
      "\u001b[33m\u001b[1m│ \u001b[22m\u001b[39m    scitype(data) <: MLJ.fit_data_scitype(model)\n",
      "\u001b[33m\u001b[1m│ \u001b[22m\u001b[39m\n",
      "\u001b[33m\u001b[1m│ \u001b[22m\u001b[39mIn the present case:\n",
      "\u001b[33m\u001b[1m│ \u001b[22m\u001b[39m\n",
      "\u001b[33m\u001b[1m│ \u001b[22m\u001b[39mscitype(data) = Tuple{AbstractVector{Count}}\n",
      "\u001b[33m\u001b[1m│ \u001b[22m\u001b[39m\n",
      "\u001b[33m\u001b[1m│ \u001b[22m\u001b[39mfit_data_scitype(model) = Tuple{Union{Table, AbstractVector{<:Continuous}}}\n",
      "\u001b[33m\u001b[1m└ \u001b[22m\u001b[39m\u001b[90m@ MLJBase ~/.julia/packages/MLJBase/uxwHr/src/machines.jl:230\u001b[39m\n",
      "\u001b[36m\u001b[1m[ \u001b[22m\u001b[39m\u001b[36m\u001b[1mInfo: \u001b[22m\u001b[39mTraining machine(Standardizer(features = Symbol[], …), …).\n"
     ]
    }
   ],
   "source": [
    "for i in 1:n\n",
    "    sc=machine(sc_,x.Level[train].^i)|>fit!\n",
    "    Xtrain[:,i]=MLJ.transform(sc,x.Level[train].^i)\n",
    "    Xtest[:,i]=MLJ.transform(sc,x.Level[test].^i)\n",
    "end"
   ]
  },
  {
   "cell_type": "markdown",
   "id": "5390c918-951a-44a8-ada3-b58325908253",
   "metadata": {},
   "source": [
    "## **Train and Fit**"
   ]
  },
  {
   "cell_type": "code",
   "execution_count": 82,
   "id": "499e8c26-e73e-4964-9192-0daca800974d",
   "metadata": {
    "tags": []
   },
   "outputs": [
    {
     "name": "stderr",
     "output_type": "stream",
     "text": [
      "\u001b[33m\u001b[1m┌ \u001b[22m\u001b[39m\u001b[33m\u001b[1mWarning: \u001b[22m\u001b[39mThe number and/or types of data arguments do not match what the specified model\n",
      "\u001b[33m\u001b[1m│ \u001b[22m\u001b[39msupports. Suppress this type check by specifying `scitype_check_level=0`.\n",
      "\u001b[33m\u001b[1m│ \u001b[22m\u001b[39m\n",
      "\u001b[33m\u001b[1m│ \u001b[22m\u001b[39mRun `@doc MLJLinearModels.LinearRegressor` to learn more about your model's requirements.\n",
      "\u001b[33m\u001b[1m│ \u001b[22m\u001b[39m\n",
      "\u001b[33m\u001b[1m│ \u001b[22m\u001b[39mCommonly, but non exclusively, supervised models are constructed using the syntax\n",
      "\u001b[33m\u001b[1m│ \u001b[22m\u001b[39m`machine(model, X, y)` or `machine(model, X, y, w)` while most other models are\n",
      "\u001b[33m\u001b[1m│ \u001b[22m\u001b[39mconstructed with `machine(model, X)`.  Here `X` are features, `y` a target, and `w`\n",
      "\u001b[33m\u001b[1m│ \u001b[22m\u001b[39msample or class weights.\n",
      "\u001b[33m\u001b[1m│ \u001b[22m\u001b[39m\n",
      "\u001b[33m\u001b[1m│ \u001b[22m\u001b[39mIn general, data in `machine(model, data...)` is expected to satisfy\n",
      "\u001b[33m\u001b[1m│ \u001b[22m\u001b[39m\n",
      "\u001b[33m\u001b[1m│ \u001b[22m\u001b[39m    scitype(data) <: MLJ.fit_data_scitype(model)\n",
      "\u001b[33m\u001b[1m│ \u001b[22m\u001b[39m\n",
      "\u001b[33m\u001b[1m│ \u001b[22m\u001b[39mIn the present case:\n",
      "\u001b[33m\u001b[1m│ \u001b[22m\u001b[39m\n",
      "\u001b[33m\u001b[1m│ \u001b[22m\u001b[39mscitype(data) = Tuple{Table{AbstractVector{Continuous}}, AbstractVector{Count}}\n",
      "\u001b[33m\u001b[1m│ \u001b[22m\u001b[39m\n",
      "\u001b[33m\u001b[1m│ \u001b[22m\u001b[39mfit_data_scitype(model) = Tuple{Table{<:AbstractVector{<:Continuous}}, AbstractVector{Continuous}}\n",
      "\u001b[33m\u001b[1m└ \u001b[22m\u001b[39m\u001b[90m@ MLJBase ~/.julia/packages/MLJBase/uxwHr/src/machines.jl:230\u001b[39m\n",
      "\u001b[36m\u001b[1m[ \u001b[22m\u001b[39m\u001b[36m\u001b[1mInfo: \u001b[22m\u001b[39mTraining machine(LinearRegressor(fit_intercept = true, …), …).\n",
      "\u001b[36m\u001b[1m┌ \u001b[22m\u001b[39m\u001b[36m\u001b[1mInfo: \u001b[22m\u001b[39mSolver: MLJLinearModels.Analytical\n",
      "\u001b[36m\u001b[1m│ \u001b[22m\u001b[39m  iterative: Bool false\n",
      "\u001b[36m\u001b[1m└ \u001b[22m\u001b[39m  max_inner: Int64 200\n"
     ]
    },
    {
     "data": {
      "text/plain": [
       "trained Machine; caches model-specific representations of data\n",
       "  model: LinearRegressor(fit_intercept = true, …)\n",
       "  args: \n",
       "    1:\tSource @103 ⏎ Table{AbstractVector{Continuous}}\n",
       "    2:\tSource @631 ⏎ AbstractVector{Count}\n"
      ]
     },
     "execution_count": 82,
     "metadata": {},
     "output_type": "execute_result"
    }
   ],
   "source": [
    "lr=machine(lr_,table(Xtrain),ytrain) |> fit!"
   ]
  },
  {
   "cell_type": "markdown",
   "id": "001e4478-f3a8-4b35-8cac-0f8c49c222c6",
   "metadata": {},
   "source": [
    "## **Show fitted parameter of training**"
   ]
  },
  {
   "cell_type": "code",
   "execution_count": 83,
   "id": "68a08df0-df96-41fa-b177-836883e7febf",
   "metadata": {
    "tags": []
   },
   "outputs": [
    {
     "data": {
      "text/plain": [
       "(coefs = [:x1 => -736526.5272834314, :x2 => 3.6766516872890526e6, :x3 => -5.9956259119889755e6, :x4 => 3.387744942707411e6],\n",
       " intercept = 290624.99999999965,)"
      ]
     },
     "execution_count": 83,
     "metadata": {},
     "output_type": "execute_result"
    }
   ],
   "source": [
    "fitted_params(lr)"
   ]
  },
  {
   "cell_type": "markdown",
   "id": "2b1ee661-7944-44fe-b1fd-93631e93c453",
   "metadata": {
    "tags": []
   },
   "source": [
    "## **Prediction of the test ..**"
   ]
  },
  {
   "cell_type": "code",
   "execution_count": 90,
   "id": "16a89e7a-5b3b-4a90-a8d3-cba599cb98af",
   "metadata": {
    "tags": []
   },
   "outputs": [
    {
     "data": {
      "text/plain": [
       "8-element Vector{Float64}:\n",
       " 526168.650080715\n",
       " 186841.95574125287\n",
       " 148990.12020257337\n",
       "  99522.56357913569\n",
       " 990055.2819563827\n",
       "  53320.88387039362\n",
       " 289247.11516324175\n",
       "  30853.429406302166"
      ]
     },
     "execution_count": 90,
     "metadata": {},
     "output_type": "execute_result"
    }
   ],
   "source": [
    "yhat=predict(lr,table(Xtrain))"
   ]
  },
  {
   "cell_type": "markdown",
   "id": "4a7b0ced-4c81-4f44-87fd-b615e044853b",
   "metadata": {
    "tags": []
   },
   "source": [
    "## **The mean Squared error is ..**"
   ]
  },
  {
   "cell_type": "code",
   "execution_count": 85,
   "id": "6da3c522-46d4-45b0-b758-f478c2e7cb0e",
   "metadata": {
    "tags": []
   },
   "outputs": [
    {
     "data": {
      "text/plain": [
       "3.319254108154981e8"
      ]
     },
     "execution_count": 85,
     "metadata": {},
     "output_type": "execute_result"
    }
   ],
   "source": [
    "sum((yhat .- ytest).^2)"
   ]
  },
  {
   "cell_type": "code",
   "execution_count": 89,
   "id": "0f880b53-3b43-415c-a6f6-508c88327205",
   "metadata": {
    "tags": []
   },
   "outputs": [
    {
     "data": {
      "text/plain": [
       "2-element Vector{Int64}:\n",
       "  60000\n",
       " 110000"
      ]
     },
     "execution_count": 89,
     "metadata": {},
     "output_type": "execute_result"
    }
   ],
   "source": [
    "ytest"
   ]
  },
  {
   "cell_type": "markdown",
   "id": "13b68474-06e3-4b5a-8b5f-0a022f8b6d24",
   "metadata": {},
   "source": [
    "## **Visualisation by plots ..**"
   ]
  },
  {
   "cell_type": "code",
   "execution_count": 86,
   "id": "50fe6dcd-4056-413f-baf2-e92f84ed5012",
   "metadata": {
    "tags": []
   },
   "outputs": [],
   "source": [
    "using LaTeXStrings"
   ]
  },
  {
   "cell_type": "code",
   "execution_count": 96,
   "id": "641cbae1-01d1-4347-8c2e-0b03f8566253",
   "metadata": {
    "tags": []
   },
   "outputs": [
    {
     "data": {
      "image/svg+xml": [
       "<?xml version=\"1.0\" encoding=\"utf-8\"?>\n",
       "<svg xmlns=\"http://www.w3.org/2000/svg\" xmlns:xlink=\"http://www.w3.org/1999/xlink\" width=\"600\" height=\"400\" viewBox=\"0 0 2400 1600\">\n",
       "<defs>\n",
       "  <clipPath id=\"clip920\">\n",
       "    <rect x=\"0\" y=\"0\" width=\"2400\" height=\"1600\"/>\n",
       "  </clipPath>\n",
       "</defs>\n",
       "<path clip-path=\"url(#clip920)\" d=\"M0 1600 L2400 1600 L2400 0 L0 0  Z\" fill=\"#ffffff\" fill-rule=\"evenodd\" fill-opacity=\"1\"/>\n",
       "<defs>\n",
       "  <clipPath id=\"clip921\">\n",
       "    <rect x=\"480\" y=\"0\" width=\"1681\" height=\"1600\"/>\n",
       "  </clipPath>\n",
       "</defs>\n",
       "<defs>\n",
       "  <clipPath id=\"clip922\">\n",
       "    <rect x=\"275\" y=\"47\" width=\"2079\" height=\"1440\"/>\n",
       "  </clipPath>\n",
       "</defs>\n",
       "<path clip-path=\"url(#clip920)\" d=\"M275.136 1486.45 L2352.76 1486.45 L2352.76 47.2441 L275.136 47.2441  Z\" fill=\"#ffffff\" fill-rule=\"evenodd\" fill-opacity=\"1\"/>\n",
       "<polyline clip-path=\"url(#clip922)\" style=\"stroke:#000000; stroke-linecap:round; stroke-linejoin:round; stroke-width:2; stroke-opacity:0.1; fill:none\" points=\"551.717,1486.45 551.717,47.2441 \"/>\n",
       "<polyline clip-path=\"url(#clip922)\" style=\"stroke:#000000; stroke-linecap:round; stroke-linejoin:round; stroke-width:2; stroke-opacity:0.1; fill:none\" points=\"987.276,1486.45 987.276,47.2441 \"/>\n",
       "<polyline clip-path=\"url(#clip922)\" style=\"stroke:#000000; stroke-linecap:round; stroke-linejoin:round; stroke-width:2; stroke-opacity:0.1; fill:none\" points=\"1422.84,1486.45 1422.84,47.2441 \"/>\n",
       "<polyline clip-path=\"url(#clip922)\" style=\"stroke:#000000; stroke-linecap:round; stroke-linejoin:round; stroke-width:2; stroke-opacity:0.1; fill:none\" points=\"1858.4,1486.45 1858.4,47.2441 \"/>\n",
       "<polyline clip-path=\"url(#clip922)\" style=\"stroke:#000000; stroke-linecap:round; stroke-linejoin:round; stroke-width:2; stroke-opacity:0.1; fill:none\" points=\"2293.96,1486.45 2293.96,47.2441 \"/>\n",
       "<polyline clip-path=\"url(#clip920)\" style=\"stroke:#000000; stroke-linecap:round; stroke-linejoin:round; stroke-width:4; stroke-opacity:1; fill:none\" points=\"275.136,1486.45 2352.76,1486.45 \"/>\n",
       "<polyline clip-path=\"url(#clip920)\" style=\"stroke:#000000; stroke-linecap:round; stroke-linejoin:round; stroke-width:4; stroke-opacity:1; fill:none\" points=\"551.717,1486.45 551.717,1467.55 \"/>\n",
       "<polyline clip-path=\"url(#clip920)\" style=\"stroke:#000000; stroke-linecap:round; stroke-linejoin:round; stroke-width:4; stroke-opacity:1; fill:none\" points=\"987.276,1486.45 987.276,1467.55 \"/>\n",
       "<polyline clip-path=\"url(#clip920)\" style=\"stroke:#000000; stroke-linecap:round; stroke-linejoin:round; stroke-width:4; stroke-opacity:1; fill:none\" points=\"1422.84,1486.45 1422.84,1467.55 \"/>\n",
       "<polyline clip-path=\"url(#clip920)\" style=\"stroke:#000000; stroke-linecap:round; stroke-linejoin:round; stroke-width:4; stroke-opacity:1; fill:none\" points=\"1858.4,1486.45 1858.4,1467.55 \"/>\n",
       "<polyline clip-path=\"url(#clip920)\" style=\"stroke:#000000; stroke-linecap:round; stroke-linejoin:round; stroke-width:4; stroke-opacity:1; fill:none\" points=\"2293.96,1486.45 2293.96,1467.55 \"/>\n",
       "<path clip-path=\"url(#clip920)\" d=\"M546.37 1544.91 L562.689 1544.91 L562.689 1548.85 L540.745 1548.85 L540.745 1544.91 Q543.407 1542.16 547.99 1537.53 Q552.596 1532.88 553.777 1531.53 Q556.022 1529.01 556.902 1527.27 Q557.805 1525.51 557.805 1523.82 Q557.805 1521.07 555.86 1519.33 Q553.939 1517.6 550.837 1517.6 Q548.638 1517.6 546.184 1518.36 Q543.754 1519.13 540.976 1520.68 L540.976 1515.95 Q543.8 1514.82 546.254 1514.24 Q548.708 1513.66 550.745 1513.66 Q556.115 1513.66 559.309 1516.35 Q562.504 1519.03 562.504 1523.52 Q562.504 1525.65 561.694 1527.57 Q560.907 1529.47 558.8 1532.07 Q558.221 1532.74 555.12 1535.95 Q552.018 1539.15 546.37 1544.91 Z\" fill=\"#000000\" fill-rule=\"evenodd\" fill-opacity=\"1\" /><path clip-path=\"url(#clip920)\" d=\"M990.286 1518.36 L978.48 1536.81 L990.286 1536.81 L990.286 1518.36 M989.059 1514.29 L994.938 1514.29 L994.938 1536.81 L999.869 1536.81 L999.869 1540.7 L994.938 1540.7 L994.938 1548.85 L990.286 1548.85 L990.286 1540.7 L974.684 1540.7 L974.684 1536.19 L989.059 1514.29 Z\" fill=\"#000000\" fill-rule=\"evenodd\" fill-opacity=\"1\" /><path clip-path=\"url(#clip920)\" d=\"M1423.24 1529.7 Q1420.09 1529.7 1418.24 1531.86 Q1416.41 1534.01 1416.41 1537.76 Q1416.41 1541.49 1418.24 1543.66 Q1420.09 1545.82 1423.24 1545.82 Q1426.39 1545.82 1428.22 1543.66 Q1430.07 1541.49 1430.07 1537.76 Q1430.07 1534.01 1428.22 1531.86 Q1426.39 1529.7 1423.24 1529.7 M1432.52 1515.05 L1432.52 1519.31 Q1430.76 1518.48 1428.96 1518.04 Q1427.18 1517.6 1425.42 1517.6 Q1420.79 1517.6 1418.33 1520.72 Q1415.9 1523.85 1415.56 1530.17 Q1416.92 1528.15 1418.98 1527.09 Q1421.04 1526 1423.52 1526 Q1428.73 1526 1431.74 1529.17 Q1434.77 1532.32 1434.77 1537.76 Q1434.77 1543.08 1431.62 1546.3 Q1428.47 1549.52 1423.24 1549.52 Q1417.25 1549.52 1414.07 1544.94 Q1410.9 1540.33 1410.9 1531.6 Q1410.9 1523.41 1414.79 1518.55 Q1418.68 1513.66 1425.23 1513.66 Q1426.99 1513.66 1428.77 1514.01 Q1430.58 1514.36 1432.52 1515.05 Z\" fill=\"#000000\" fill-rule=\"evenodd\" fill-opacity=\"1\" /><path clip-path=\"url(#clip920)\" d=\"M1858.4 1532.44 Q1855.06 1532.44 1853.14 1534.22 Q1851.24 1536 1851.24 1539.13 Q1851.24 1542.25 1853.14 1544.03 Q1855.06 1545.82 1858.4 1545.82 Q1861.73 1545.82 1863.65 1544.03 Q1865.57 1542.23 1865.57 1539.13 Q1865.57 1536 1863.65 1534.22 Q1861.75 1532.44 1858.4 1532.44 M1853.72 1530.45 Q1850.71 1529.7 1849.02 1527.64 Q1847.35 1525.58 1847.35 1522.62 Q1847.35 1518.48 1850.29 1516.07 Q1853.26 1513.66 1858.4 1513.66 Q1863.56 1513.66 1866.5 1516.07 Q1869.44 1518.48 1869.44 1522.62 Q1869.44 1525.58 1867.75 1527.64 Q1866.08 1529.7 1863.09 1530.45 Q1866.47 1531.23 1868.35 1533.52 Q1870.25 1535.82 1870.25 1539.13 Q1870.25 1544.15 1867.17 1546.83 Q1864.11 1549.52 1858.4 1549.52 Q1852.68 1549.52 1849.6 1546.83 Q1846.54 1544.15 1846.54 1539.13 Q1846.54 1535.82 1848.44 1533.52 Q1850.34 1531.23 1853.72 1530.45 M1852.01 1523.06 Q1852.01 1525.75 1853.67 1527.25 Q1855.36 1528.76 1858.4 1528.76 Q1861.4 1528.76 1863.09 1527.25 Q1864.81 1525.75 1864.81 1523.06 Q1864.81 1520.38 1863.09 1518.87 Q1861.4 1517.37 1858.4 1517.37 Q1855.36 1517.37 1853.67 1518.87 Q1852.01 1520.38 1852.01 1523.06 Z\" fill=\"#000000\" fill-rule=\"evenodd\" fill-opacity=\"1\" /><path clip-path=\"url(#clip920)\" d=\"M2268.64 1544.91 L2276.28 1544.91 L2276.28 1518.55 L2267.97 1520.21 L2267.97 1515.95 L2276.24 1514.29 L2280.91 1514.29 L2280.91 1544.91 L2288.55 1544.91 L2288.55 1548.85 L2268.64 1548.85 L2268.64 1544.91 Z\" fill=\"#000000\" fill-rule=\"evenodd\" fill-opacity=\"1\" /><path clip-path=\"url(#clip920)\" d=\"M2307.99 1517.37 Q2304.38 1517.37 2302.55 1520.93 Q2300.75 1524.47 2300.75 1531.6 Q2300.75 1538.71 2302.55 1542.27 Q2304.38 1545.82 2307.99 1545.82 Q2311.63 1545.82 2313.43 1542.27 Q2315.26 1538.71 2315.26 1531.6 Q2315.26 1524.47 2313.43 1520.93 Q2311.63 1517.37 2307.99 1517.37 M2307.99 1513.66 Q2313.8 1513.66 2316.86 1518.27 Q2319.94 1522.85 2319.94 1531.6 Q2319.94 1540.33 2316.86 1544.94 Q2313.8 1549.52 2307.99 1549.52 Q2302.18 1549.52 2299.11 1544.94 Q2296.05 1540.33 2296.05 1531.6 Q2296.05 1522.85 2299.11 1518.27 Q2302.18 1513.66 2307.99 1513.66 Z\" fill=\"#000000\" fill-rule=\"evenodd\" fill-opacity=\"1\" /><polyline clip-path=\"url(#clip922)\" style=\"stroke:#000000; stroke-linecap:round; stroke-linejoin:round; stroke-width:2; stroke-opacity:0.1; fill:none\" points=\"275.136,1208.75 2352.76,1208.75 \"/>\n",
       "<polyline clip-path=\"url(#clip922)\" style=\"stroke:#000000; stroke-linecap:round; stroke-linejoin:round; stroke-width:2; stroke-opacity:0.1; fill:none\" points=\"275.136,928.555 2352.76,928.555 \"/>\n",
       "<polyline clip-path=\"url(#clip922)\" style=\"stroke:#000000; stroke-linecap:round; stroke-linejoin:round; stroke-width:2; stroke-opacity:0.1; fill:none\" points=\"275.136,648.362 2352.76,648.362 \"/>\n",
       "<polyline clip-path=\"url(#clip922)\" style=\"stroke:#000000; stroke-linecap:round; stroke-linejoin:round; stroke-width:2; stroke-opacity:0.1; fill:none\" points=\"275.136,368.169 2352.76,368.169 \"/>\n",
       "<polyline clip-path=\"url(#clip922)\" style=\"stroke:#000000; stroke-linecap:round; stroke-linejoin:round; stroke-width:2; stroke-opacity:0.1; fill:none\" points=\"275.136,87.9763 2352.76,87.9763 \"/>\n",
       "<polyline clip-path=\"url(#clip920)\" style=\"stroke:#000000; stroke-linecap:round; stroke-linejoin:round; stroke-width:4; stroke-opacity:1; fill:none\" points=\"275.136,1486.45 275.136,47.2441 \"/>\n",
       "<polyline clip-path=\"url(#clip920)\" style=\"stroke:#000000; stroke-linecap:round; stroke-linejoin:round; stroke-width:4; stroke-opacity:1; fill:none\" points=\"275.136,1208.75 294.034,1208.75 \"/>\n",
       "<polyline clip-path=\"url(#clip920)\" style=\"stroke:#000000; stroke-linecap:round; stroke-linejoin:round; stroke-width:4; stroke-opacity:1; fill:none\" points=\"275.136,928.555 294.034,928.555 \"/>\n",
       "<polyline clip-path=\"url(#clip920)\" style=\"stroke:#000000; stroke-linecap:round; stroke-linejoin:round; stroke-width:4; stroke-opacity:1; fill:none\" points=\"275.136,648.362 294.034,648.362 \"/>\n",
       "<polyline clip-path=\"url(#clip920)\" style=\"stroke:#000000; stroke-linecap:round; stroke-linejoin:round; stroke-width:4; stroke-opacity:1; fill:none\" points=\"275.136,368.169 294.034,368.169 \"/>\n",
       "<polyline clip-path=\"url(#clip920)\" style=\"stroke:#000000; stroke-linecap:round; stroke-linejoin:round; stroke-width:4; stroke-opacity:1; fill:none\" points=\"275.136,87.9763 294.034,87.9763 \"/>\n",
       "<path clip-path=\"url(#clip920)\" d=\"M57.7745 1228.54 L74.0939 1228.54 L74.0939 1232.48 L52.1495 1232.48 L52.1495 1228.54 Q54.8115 1225.79 59.3949 1221.16 Q64.0013 1216.5 65.1819 1215.16 Q67.4272 1212.64 68.3068 1210.9 Q69.2096 1209.14 69.2096 1207.45 Q69.2096 1204.7 67.2652 1202.96 Q65.3439 1201.23 62.2421 1201.23 Q60.043 1201.23 57.5893 1201.99 Q55.1588 1202.75 52.381 1204.3 L52.381 1199.58 Q55.2051 1198.45 57.6588 1197.87 Q60.1124 1197.29 62.1495 1197.29 Q67.5198 1197.29 70.7142 1199.98 Q73.9087 1202.66 73.9087 1207.15 Q73.9087 1209.28 73.0985 1211.2 Q72.3115 1213.1 70.205 1215.69 Q69.6263 1216.36 66.5245 1219.58 Q63.4226 1222.78 57.7745 1228.54 Z\" fill=\"#000000\" fill-rule=\"evenodd\" fill-opacity=\"1\" /><path clip-path=\"url(#clip920)\" d=\"M83.9086 1226.6 L88.7928 1226.6 L88.7928 1232.48 L83.9086 1232.48 L83.9086 1226.6 Z\" fill=\"#000000\" fill-rule=\"evenodd\" fill-opacity=\"1\" /><path clip-path=\"url(#clip920)\" d=\"M108.978 1200.99 Q105.367 1200.99 103.538 1204.56 Q101.733 1208.1 101.733 1215.23 Q101.733 1222.34 103.538 1225.9 Q105.367 1229.44 108.978 1229.44 Q112.612 1229.44 114.418 1225.9 Q116.246 1222.34 116.246 1215.23 Q116.246 1208.1 114.418 1204.56 Q112.612 1200.99 108.978 1200.99 M108.978 1197.29 Q114.788 1197.29 117.844 1201.9 Q120.922 1206.48 120.922 1215.23 Q120.922 1223.96 117.844 1228.56 Q114.788 1233.15 108.978 1233.15 Q103.168 1233.15 100.089 1228.56 Q97.0335 1223.96 97.0335 1215.23 Q97.0335 1206.48 100.089 1201.9 Q103.168 1197.29 108.978 1197.29 Z\" fill=\"#000000\" fill-rule=\"evenodd\" fill-opacity=\"1\" /><path clip-path=\"url(#clip920)\" d=\"M157.311 1207.01 L146.732 1217.64 L157.311 1228.22 L154.556 1231.02 L143.931 1220.39 L133.306 1231.02 L130.575 1228.22 L141.131 1217.64 L130.575 1207.01 L133.306 1204.21 L143.931 1214.84 L154.556 1204.21 L157.311 1207.01 Z\" fill=\"#000000\" fill-rule=\"evenodd\" fill-opacity=\"1\" /><path clip-path=\"url(#clip920)\" d=\"M169.672 1228.54 L177.311 1228.54 L177.311 1202.17 L169.001 1203.84 L169.001 1199.58 L177.265 1197.92 L181.94 1197.92 L181.94 1228.54 L189.579 1228.54 L189.579 1232.48 L169.672 1232.48 L169.672 1228.54 Z\" fill=\"#000000\" fill-rule=\"evenodd\" fill-opacity=\"1\" /><path clip-path=\"url(#clip920)\" d=\"M209.024 1200.99 Q205.413 1200.99 203.584 1204.56 Q201.778 1208.1 201.778 1215.23 Q201.778 1222.34 203.584 1225.9 Q205.413 1229.44 209.024 1229.44 Q212.658 1229.44 214.463 1225.9 Q216.292 1222.34 216.292 1215.23 Q216.292 1208.1 214.463 1204.56 Q212.658 1200.99 209.024 1200.99 M209.024 1197.29 Q214.834 1197.29 217.889 1201.9 Q220.968 1206.48 220.968 1215.23 Q220.968 1223.96 217.889 1228.56 Q214.834 1233.15 209.024 1233.15 Q203.214 1233.15 200.135 1228.56 Q197.079 1223.96 197.079 1215.23 Q197.079 1206.48 200.135 1201.9 Q203.214 1197.29 209.024 1197.29 Z\" fill=\"#000000\" fill-rule=\"evenodd\" fill-opacity=\"1\" /><path clip-path=\"url(#clip920)\" d=\"M222.153 1176.98 L237.068 1176.98 L237.068 1180.18 L225.632 1180.18 L225.632 1187.07 Q226.46 1186.78 227.287 1186.65 Q228.115 1186.5 228.943 1186.5 Q233.645 1186.5 236.39 1189.08 Q239.136 1191.65 239.136 1196.06 Q239.136 1200.59 236.315 1203.11 Q233.494 1205.61 228.36 1205.61 Q226.592 1205.61 224.748 1205.31 Q222.924 1205.01 220.968 1204.41 L220.968 1200.59 Q222.661 1201.51 224.466 1201.96 Q226.272 1202.41 228.284 1202.41 Q231.538 1202.41 233.438 1200.7 Q235.337 1198.99 235.337 1196.06 Q235.337 1193.12 233.438 1191.41 Q231.538 1189.7 228.284 1189.7 Q226.761 1189.7 225.237 1190.04 Q223.733 1190.38 222.153 1191.09 L222.153 1176.98 Z\" fill=\"#000000\" fill-rule=\"evenodd\" fill-opacity=\"1\" /><path clip-path=\"url(#clip920)\" d=\"M66.5939 921.796 L54.7884 940.245 L66.5939 940.245 L66.5939 921.796 M65.367 917.722 L71.2466 917.722 L71.2466 940.245 L76.1772 940.245 L76.1772 944.134 L71.2466 944.134 L71.2466 952.282 L66.5939 952.282 L66.5939 944.134 L50.9921 944.134 L50.9921 939.62 L65.367 917.722 Z\" fill=\"#000000\" fill-rule=\"evenodd\" fill-opacity=\"1\" /><path clip-path=\"url(#clip920)\" d=\"M83.9086 946.403 L88.7928 946.403 L88.7928 952.282 L83.9086 952.282 L83.9086 946.403 Z\" fill=\"#000000\" fill-rule=\"evenodd\" fill-opacity=\"1\" /><path clip-path=\"url(#clip920)\" d=\"M108.978 920.801 Q105.367 920.801 103.538 924.366 Q101.733 927.907 101.733 935.037 Q101.733 942.143 103.538 945.708 Q105.367 949.25 108.978 949.25 Q112.612 949.25 114.418 945.708 Q116.246 942.143 116.246 935.037 Q116.246 927.907 114.418 924.366 Q112.612 920.801 108.978 920.801 M108.978 917.097 Q114.788 917.097 117.844 921.704 Q120.922 926.287 120.922 935.037 Q120.922 943.764 117.844 948.37 Q114.788 952.954 108.978 952.954 Q103.168 952.954 100.089 948.37 Q97.0335 943.764 97.0335 935.037 Q97.0335 926.287 100.089 921.704 Q103.168 917.097 108.978 917.097 Z\" fill=\"#000000\" fill-rule=\"evenodd\" fill-opacity=\"1\" /><path clip-path=\"url(#clip920)\" d=\"M157.311 926.819 L146.732 937.444 L157.311 948.023 L154.556 950.824 L143.931 940.199 L133.306 950.824 L130.575 948.023 L141.131 937.444 L130.575 926.819 L133.306 924.019 L143.931 934.643 L154.556 924.019 L157.311 926.819 Z\" fill=\"#000000\" fill-rule=\"evenodd\" fill-opacity=\"1\" /><path clip-path=\"url(#clip920)\" d=\"M169.672 948.347 L177.311 948.347 L177.311 921.981 L169.001 923.648 L169.001 919.389 L177.265 917.722 L181.94 917.722 L181.94 948.347 L189.579 948.347 L189.579 952.282 L169.672 952.282 L169.672 948.347 Z\" fill=\"#000000\" fill-rule=\"evenodd\" fill-opacity=\"1\" /><path clip-path=\"url(#clip920)\" d=\"M209.024 920.801 Q205.413 920.801 203.584 924.366 Q201.778 927.907 201.778 935.037 Q201.778 942.143 203.584 945.708 Q205.413 949.25 209.024 949.25 Q212.658 949.25 214.463 945.708 Q216.292 942.143 216.292 935.037 Q216.292 927.907 214.463 924.366 Q212.658 920.801 209.024 920.801 M209.024 917.097 Q214.834 917.097 217.889 921.704 Q220.968 926.287 220.968 935.037 Q220.968 943.764 217.889 948.37 Q214.834 952.954 209.024 952.954 Q203.214 952.954 200.135 948.37 Q197.079 943.764 197.079 935.037 Q197.079 926.287 200.135 921.704 Q203.214 917.097 209.024 917.097 Z\" fill=\"#000000\" fill-rule=\"evenodd\" fill-opacity=\"1\" /><path clip-path=\"url(#clip920)\" d=\"M222.153 896.792 L237.068 896.792 L237.068 899.989 L225.632 899.989 L225.632 906.873 Q226.46 906.591 227.287 906.459 Q228.115 906.309 228.943 906.309 Q233.645 906.309 236.39 908.885 Q239.136 911.462 239.136 915.863 Q239.136 920.396 236.315 922.916 Q233.494 925.417 228.36 925.417 Q226.592 925.417 224.748 925.116 Q222.924 924.815 220.968 924.214 L220.968 920.396 Q222.661 921.317 224.466 921.769 Q226.272 922.22 228.284 922.22 Q231.538 922.22 233.438 920.508 Q235.337 918.797 235.337 915.863 Q235.337 912.929 233.438 911.217 Q231.538 909.506 228.284 909.506 Q226.761 909.506 225.237 909.844 Q223.733 910.183 222.153 910.898 L222.153 896.792 Z\" fill=\"#000000\" fill-rule=\"evenodd\" fill-opacity=\"1\" /><path clip-path=\"url(#clip920)\" d=\"M64.3254 652.946 Q61.1773 652.946 59.3254 655.099 Q57.4967 657.252 57.4967 661.002 Q57.4967 664.728 59.3254 666.904 Q61.1773 669.057 64.3254 669.057 Q67.4735 669.057 69.3022 666.904 Q71.1541 664.728 71.1541 661.002 Q71.1541 657.252 69.3022 655.099 Q67.4735 652.946 64.3254 652.946 M73.6077 638.293 L73.6077 642.553 Q71.8485 641.719 70.0429 641.279 Q68.2606 640.84 66.5013 640.84 Q61.8717 640.84 59.418 643.965 Q56.9875 647.09 56.6402 653.409 Q58.006 651.395 60.0662 650.33 Q62.1263 649.242 64.6032 649.242 Q69.8115 649.242 72.8207 652.414 Q75.8531 655.562 75.8531 661.002 Q75.8531 666.326 72.705 669.543 Q69.5568 672.761 64.3254 672.761 Q58.33 672.761 55.1588 668.177 Q51.9875 663.571 51.9875 654.844 Q51.9875 646.65 55.8764 641.789 Q59.7652 636.904 66.3161 636.904 Q68.0754 636.904 69.8578 637.252 Q71.6633 637.599 73.6077 638.293 Z\" fill=\"#000000\" fill-rule=\"evenodd\" fill-opacity=\"1\" /><path clip-path=\"url(#clip920)\" d=\"M83.9086 666.21 L88.7928 666.21 L88.7928 672.089 L83.9086 672.089 L83.9086 666.21 Z\" fill=\"#000000\" fill-rule=\"evenodd\" fill-opacity=\"1\" /><path clip-path=\"url(#clip920)\" d=\"M108.978 640.608 Q105.367 640.608 103.538 644.173 Q101.733 647.715 101.733 654.844 Q101.733 661.951 103.538 665.515 Q105.367 669.057 108.978 669.057 Q112.612 669.057 114.418 665.515 Q116.246 661.951 116.246 654.844 Q116.246 647.715 114.418 644.173 Q112.612 640.608 108.978 640.608 M108.978 636.904 Q114.788 636.904 117.844 641.511 Q120.922 646.094 120.922 654.844 Q120.922 663.571 117.844 668.177 Q114.788 672.761 108.978 672.761 Q103.168 672.761 100.089 668.177 Q97.0335 663.571 97.0335 654.844 Q97.0335 646.094 100.089 641.511 Q103.168 636.904 108.978 636.904 Z\" fill=\"#000000\" fill-rule=\"evenodd\" fill-opacity=\"1\" /><path clip-path=\"url(#clip920)\" d=\"M157.311 646.627 L146.732 657.252 L157.311 667.83 L154.556 670.631 L143.931 660.006 L133.306 670.631 L130.575 667.83 L141.131 657.252 L130.575 646.627 L133.306 643.826 L143.931 654.451 L154.556 643.826 L157.311 646.627 Z\" fill=\"#000000\" fill-rule=\"evenodd\" fill-opacity=\"1\" /><path clip-path=\"url(#clip920)\" d=\"M169.672 668.154 L177.311 668.154 L177.311 641.789 L169.001 643.455 L169.001 639.196 L177.265 637.529 L181.94 637.529 L181.94 668.154 L189.579 668.154 L189.579 672.089 L169.672 672.089 L169.672 668.154 Z\" fill=\"#000000\" fill-rule=\"evenodd\" fill-opacity=\"1\" /><path clip-path=\"url(#clip920)\" d=\"M209.024 640.608 Q205.413 640.608 203.584 644.173 Q201.778 647.715 201.778 654.844 Q201.778 661.951 203.584 665.515 Q205.413 669.057 209.024 669.057 Q212.658 669.057 214.463 665.515 Q216.292 661.951 216.292 654.844 Q216.292 647.715 214.463 644.173 Q212.658 640.608 209.024 640.608 M209.024 636.904 Q214.834 636.904 217.889 641.511 Q220.968 646.094 220.968 654.844 Q220.968 663.571 217.889 668.177 Q214.834 672.761 209.024 672.761 Q203.214 672.761 200.135 668.177 Q197.079 663.571 197.079 654.844 Q197.079 646.094 200.135 641.511 Q203.214 636.904 209.024 636.904 Z\" fill=\"#000000\" fill-rule=\"evenodd\" fill-opacity=\"1\" /><path clip-path=\"url(#clip920)\" d=\"M222.153 616.599 L237.068 616.599 L237.068 619.796 L225.632 619.796 L225.632 626.68 Q226.46 626.398 227.287 626.266 Q228.115 626.116 228.943 626.116 Q233.645 626.116 236.39 628.692 Q239.136 631.269 239.136 635.67 Q239.136 640.203 236.315 642.723 Q233.494 645.224 228.36 645.224 Q226.592 645.224 224.748 644.924 Q222.924 644.623 220.968 644.021 L220.968 640.203 Q222.661 641.124 224.466 641.576 Q226.272 642.027 228.284 642.027 Q231.538 642.027 233.438 640.316 Q235.337 638.604 235.337 635.67 Q235.337 632.736 233.438 631.025 Q231.538 629.313 228.284 629.313 Q226.761 629.313 225.237 629.652 Q223.733 629.99 222.153 630.705 L222.153 616.599 Z\" fill=\"#000000\" fill-rule=\"evenodd\" fill-opacity=\"1\" /><path clip-path=\"url(#clip920)\" d=\"M63.7467 375.485 Q60.4134 375.485 58.4921 377.267 Q56.5939 379.05 56.5939 382.174 Q56.5939 385.299 58.4921 387.082 Q60.4134 388.864 63.7467 388.864 Q67.08 388.864 69.0013 387.082 Q70.9226 385.276 70.9226 382.174 Q70.9226 379.05 69.0013 377.267 Q67.1032 375.485 63.7467 375.485 M59.0708 373.494 Q56.0615 372.753 54.3717 370.693 Q52.7051 368.633 52.7051 365.67 Q52.7051 361.526 55.6449 359.119 Q58.6078 356.712 63.7467 356.712 Q68.9087 356.712 71.8485 359.119 Q74.7883 361.526 74.7883 365.67 Q74.7883 368.633 73.0985 370.693 Q71.4318 372.753 68.4457 373.494 Q71.8253 374.281 73.7003 376.573 Q75.5985 378.864 75.5985 382.174 Q75.5985 387.198 72.5198 389.883 Q69.4642 392.568 63.7467 392.568 Q58.0291 392.568 54.9504 389.883 Q51.8949 387.198 51.8949 382.174 Q51.8949 378.864 53.793 376.573 Q55.6912 374.281 59.0708 373.494 M57.3578 366.11 Q57.3578 368.795 59.0245 370.3 Q60.7143 371.804 63.7467 371.804 Q66.7559 371.804 68.4457 370.3 Q70.1587 368.795 70.1587 366.11 Q70.1587 363.425 68.4457 361.92 Q66.7559 360.415 63.7467 360.415 Q60.7143 360.415 59.0245 361.92 Q57.3578 363.425 57.3578 366.11 Z\" fill=\"#000000\" fill-rule=\"evenodd\" fill-opacity=\"1\" /><path clip-path=\"url(#clip920)\" d=\"M83.9086 386.017 L88.7928 386.017 L88.7928 391.897 L83.9086 391.897 L83.9086 386.017 Z\" fill=\"#000000\" fill-rule=\"evenodd\" fill-opacity=\"1\" /><path clip-path=\"url(#clip920)\" d=\"M108.978 360.415 Q105.367 360.415 103.538 363.98 Q101.733 367.522 101.733 374.651 Q101.733 381.758 103.538 385.323 Q105.367 388.864 108.978 388.864 Q112.612 388.864 114.418 385.323 Q116.246 381.758 116.246 374.651 Q116.246 367.522 114.418 363.98 Q112.612 360.415 108.978 360.415 M108.978 356.712 Q114.788 356.712 117.844 361.318 Q120.922 365.901 120.922 374.651 Q120.922 383.378 117.844 387.985 Q114.788 392.568 108.978 392.568 Q103.168 392.568 100.089 387.985 Q97.0335 383.378 97.0335 374.651 Q97.0335 365.901 100.089 361.318 Q103.168 356.712 108.978 356.712 Z\" fill=\"#000000\" fill-rule=\"evenodd\" fill-opacity=\"1\" /><path clip-path=\"url(#clip920)\" d=\"M157.311 366.434 L146.732 377.059 L157.311 387.637 L154.556 390.438 L143.931 379.813 L133.306 390.438 L130.575 387.637 L141.131 377.059 L130.575 366.434 L133.306 363.633 L143.931 374.258 L154.556 363.633 L157.311 366.434 Z\" fill=\"#000000\" fill-rule=\"evenodd\" fill-opacity=\"1\" /><path clip-path=\"url(#clip920)\" d=\"M169.672 387.962 L177.311 387.962 L177.311 361.596 L169.001 363.263 L169.001 359.003 L177.265 357.337 L181.94 357.337 L181.94 387.962 L189.579 387.962 L189.579 391.897 L169.672 391.897 L169.672 387.962 Z\" fill=\"#000000\" fill-rule=\"evenodd\" fill-opacity=\"1\" /><path clip-path=\"url(#clip920)\" d=\"M209.024 360.415 Q205.413 360.415 203.584 363.98 Q201.778 367.522 201.778 374.651 Q201.778 381.758 203.584 385.323 Q205.413 388.864 209.024 388.864 Q212.658 388.864 214.463 385.323 Q216.292 381.758 216.292 374.651 Q216.292 367.522 214.463 363.98 Q212.658 360.415 209.024 360.415 M209.024 356.712 Q214.834 356.712 217.889 361.318 Q220.968 365.901 220.968 374.651 Q220.968 383.378 217.889 387.985 Q214.834 392.568 209.024 392.568 Q203.214 392.568 200.135 387.985 Q197.079 383.378 197.079 374.651 Q197.079 365.901 200.135 361.318 Q203.214 356.712 209.024 356.712 Z\" fill=\"#000000\" fill-rule=\"evenodd\" fill-opacity=\"1\" /><path clip-path=\"url(#clip920)\" d=\"M222.153 336.406 L237.068 336.406 L237.068 339.604 L225.632 339.604 L225.632 346.487 Q226.46 346.205 227.287 346.073 Q228.115 345.923 228.943 345.923 Q233.645 345.923 236.39 348.5 Q239.136 351.076 239.136 355.477 Q239.136 360.01 236.315 362.53 Q233.494 365.032 228.36 365.032 Q226.592 365.032 224.748 364.731 Q222.924 364.43 220.968 363.828 L220.968 360.01 Q222.661 360.932 224.466 361.383 Q226.272 361.834 228.284 361.834 Q231.538 361.834 233.438 360.123 Q235.337 358.411 235.337 355.477 Q235.337 352.543 233.438 350.832 Q231.538 349.12 228.284 349.12 Q226.761 349.12 225.237 349.459 Q223.733 349.797 222.153 350.512 L222.153 336.406 Z\" fill=\"#000000\" fill-rule=\"evenodd\" fill-opacity=\"1\" /><path clip-path=\"url(#clip920)\" d=\"M53.3344 107.769 L60.9733 107.769 L60.9733 81.4031 L52.6631 83.0698 L52.6631 78.8105 L60.927 77.1439 L65.6029 77.1439 L65.6029 107.769 L73.2417 107.769 L73.2417 111.704 L53.3344 111.704 L53.3344 107.769 Z\" fill=\"#000000\" fill-rule=\"evenodd\" fill-opacity=\"1\" /><path clip-path=\"url(#clip920)\" d=\"M82.6861 105.824 L87.5703 105.824 L87.5703 111.704 L82.6861 111.704 L82.6861 105.824 Z\" fill=\"#000000\" fill-rule=\"evenodd\" fill-opacity=\"1\" /><path clip-path=\"url(#clip920)\" d=\"M107.755 80.2226 Q104.144 80.2226 102.316 83.7874 Q100.51 87.329 100.51 94.4586 Q100.51 101.565 102.316 105.13 Q104.144 108.671 107.755 108.671 Q111.39 108.671 113.195 105.13 Q115.024 101.565 115.024 94.4586 Q115.024 87.329 113.195 83.7874 Q111.39 80.2226 107.755 80.2226 M107.755 76.5189 Q113.566 76.5189 116.621 81.1253 Q119.7 85.7086 119.7 94.4586 Q119.7 103.185 116.621 107.792 Q113.566 112.375 107.755 112.375 Q101.945 112.375 98.8666 107.792 Q95.811 103.185 95.811 94.4586 Q95.811 85.7086 98.8666 81.1253 Q101.945 76.5189 107.755 76.5189 Z\" fill=\"#000000\" fill-rule=\"evenodd\" fill-opacity=\"1\" /><path clip-path=\"url(#clip920)\" d=\"M156.088 86.2411 L145.51 96.866 L156.088 107.445 L153.334 110.246 L142.709 99.6206 L132.084 110.246 L129.353 107.445 L139.908 96.866 L129.353 86.2411 L132.084 83.4401 L142.709 94.0651 L153.334 83.4401 L156.088 86.2411 Z\" fill=\"#000000\" fill-rule=\"evenodd\" fill-opacity=\"1\" /><path clip-path=\"url(#clip920)\" d=\"M168.45 107.769 L176.088 107.769 L176.088 81.4031 L167.778 83.0698 L167.778 78.8105 L176.042 77.1439 L180.718 77.1439 L180.718 107.769 L188.357 107.769 L188.357 111.704 L168.45 111.704 L168.45 107.769 Z\" fill=\"#000000\" fill-rule=\"evenodd\" fill-opacity=\"1\" /><path clip-path=\"url(#clip920)\" d=\"M207.801 80.2226 Q204.19 80.2226 202.361 83.7874 Q200.556 87.329 200.556 94.4586 Q200.556 101.565 202.361 105.13 Q204.19 108.671 207.801 108.671 Q211.435 108.671 213.241 105.13 Q215.07 101.565 215.07 94.4586 Q215.07 87.329 213.241 83.7874 Q211.435 80.2226 207.801 80.2226 M207.801 76.5189 Q213.611 76.5189 216.667 81.1253 Q219.746 85.7086 219.746 94.4586 Q219.746 103.185 216.667 107.792 Q213.611 112.375 207.801 112.375 Q201.991 112.375 198.912 107.792 Q195.857 103.185 195.857 94.4586 Q195.857 85.7086 198.912 81.1253 Q201.991 76.5189 207.801 76.5189 Z\" fill=\"#000000\" fill-rule=\"evenodd\" fill-opacity=\"1\" /><path clip-path=\"url(#clip920)\" d=\"M229.77 68.7395 Q227.212 68.7395 225.708 70.4886 Q224.222 72.2377 224.222 75.2846 Q224.222 78.3126 225.708 80.0805 Q227.212 81.8297 229.77 81.8297 Q232.328 81.8297 233.814 80.0805 Q235.318 78.3126 235.318 75.2846 Q235.318 72.2377 233.814 70.4886 Q232.328 68.7395 229.77 68.7395 M237.312 56.8341 L237.312 60.2948 Q235.883 59.6177 234.416 59.2603 Q232.967 58.903 231.538 58.903 Q227.776 58.903 225.783 61.442 Q223.808 63.9811 223.526 69.1156 Q224.636 67.4793 226.309 66.6142 Q227.983 65.7302 229.996 65.7302 Q234.228 65.7302 236.673 68.3069 Q239.136 70.8647 239.136 75.2846 Q239.136 79.6103 236.579 82.2246 Q234.021 84.8389 229.77 84.8389 Q224.899 84.8389 222.322 81.115 Q219.746 77.3722 219.746 70.2817 Q219.746 63.6237 222.905 59.6741 Q226.065 55.7057 231.388 55.7057 Q232.817 55.7057 234.265 55.9878 Q235.732 56.2699 237.312 56.8341 Z\" fill=\"#000000\" fill-rule=\"evenodd\" fill-opacity=\"1\" /><circle clip-path=\"url(#clip922)\" cx=\"2076.18\" cy=\"788.458\" r=\"14.4\" fill=\"#009af9\" fill-rule=\"evenodd\" fill-opacity=\"1\" stroke=\"#000000\" stroke-opacity=\"1\" stroke-width=\"3.2\"/>\n",
       "<circle clip-path=\"url(#clip922)\" cx=\"1640.62\" cy=\"1208.75\" r=\"14.4\" fill=\"#009af9\" fill-rule=\"evenodd\" fill-opacity=\"1\" stroke=\"#000000\" stroke-opacity=\"1\" stroke-width=\"3.2\"/>\n",
       "<circle clip-path=\"url(#clip922)\" cx=\"1422.84\" cy=\"1278.8\" r=\"14.4\" fill=\"#009af9\" fill-rule=\"evenodd\" fill-opacity=\"1\" stroke=\"#000000\" stroke-opacity=\"1\" stroke-width=\"3.2\"/>\n",
       "<circle clip-path=\"url(#clip922)\" cx=\"987.276\" cy=\"1376.86\" r=\"14.4\" fill=\"#009af9\" fill-rule=\"evenodd\" fill-opacity=\"1\" stroke=\"#000000\" stroke-opacity=\"1\" stroke-width=\"3.2\"/>\n",
       "<circle clip-path=\"url(#clip922)\" cx=\"2293.96\" cy=\"87.9763\" r=\"14.4\" fill=\"#009af9\" fill-rule=\"evenodd\" fill-opacity=\"1\" stroke=\"#000000\" stroke-opacity=\"1\" stroke-width=\"3.2\"/>\n",
       "<circle clip-path=\"url(#clip922)\" cx=\"333.937\" cy=\"1425.9\" r=\"14.4\" fill=\"#009af9\" fill-rule=\"evenodd\" fill-opacity=\"1\" stroke=\"#000000\" stroke-opacity=\"1\" stroke-width=\"3.2\"/>\n",
       "<circle clip-path=\"url(#clip922)\" cx=\"1858.4\" cy=\"1068.65\" r=\"14.4\" fill=\"#009af9\" fill-rule=\"evenodd\" fill-opacity=\"1\" stroke=\"#000000\" stroke-opacity=\"1\" stroke-width=\"3.2\"/>\n",
       "<circle clip-path=\"url(#clip922)\" cx=\"551.717\" cy=\"1418.89\" r=\"14.4\" fill=\"#009af9\" fill-rule=\"evenodd\" fill-opacity=\"1\" stroke=\"#000000\" stroke-opacity=\"1\" stroke-width=\"3.2\"/>\n",
       "<circle clip-path=\"url(#clip922)\" cx=\"2076.18\" cy=\"751.797\" r=\"14.4\" fill=\"#e26f46\" fill-rule=\"evenodd\" fill-opacity=\"1\" stroke=\"#000000\" stroke-opacity=\"1\" stroke-width=\"3.2\"/>\n",
       "<circle clip-path=\"url(#clip922)\" cx=\"1640.62\" cy=\"1227.18\" r=\"14.4\" fill=\"#e26f46\" fill-rule=\"evenodd\" fill-opacity=\"1\" stroke=\"#000000\" stroke-opacity=\"1\" stroke-width=\"3.2\"/>\n",
       "<circle clip-path=\"url(#clip922)\" cx=\"1422.84\" cy=\"1280.21\" r=\"14.4\" fill=\"#e26f46\" fill-rule=\"evenodd\" fill-opacity=\"1\" stroke=\"#000000\" stroke-opacity=\"1\" stroke-width=\"3.2\"/>\n",
       "<circle clip-path=\"url(#clip922)\" cx=\"987.276\" cy=\"1349.51\" r=\"14.4\" fill=\"#e26f46\" fill-rule=\"evenodd\" fill-opacity=\"1\" stroke=\"#000000\" stroke-opacity=\"1\" stroke-width=\"3.2\"/>\n",
       "<circle clip-path=\"url(#clip922)\" cx=\"2293.96\" cy=\"101.908\" r=\"14.4\" fill=\"#e26f46\" fill-rule=\"evenodd\" fill-opacity=\"1\" stroke=\"#000000\" stroke-opacity=\"1\" stroke-width=\"3.2\"/>\n",
       "<circle clip-path=\"url(#clip922)\" cx=\"333.937\" cy=\"1414.24\" r=\"14.4\" fill=\"#e26f46\" fill-rule=\"evenodd\" fill-opacity=\"1\" stroke=\"#000000\" stroke-opacity=\"1\" stroke-width=\"3.2\"/>\n",
       "<circle clip-path=\"url(#clip922)\" cx=\"1858.4\" cy=\"1083.72\" r=\"14.4\" fill=\"#e26f46\" fill-rule=\"evenodd\" fill-opacity=\"1\" stroke=\"#000000\" stroke-opacity=\"1\" stroke-width=\"3.2\"/>\n",
       "<circle clip-path=\"url(#clip922)\" cx=\"551.717\" cy=\"1445.72\" r=\"14.4\" fill=\"#e26f46\" fill-rule=\"evenodd\" fill-opacity=\"1\" stroke=\"#000000\" stroke-opacity=\"1\" stroke-width=\"3.2\"/>\n",
       "<path clip-path=\"url(#clip920)\" d=\"M344.39 250.738 L632.458 250.738 L632.458 95.2176 L344.39 95.2176  Z\" fill=\"#ffffff\" fill-rule=\"evenodd\" fill-opacity=\"1\"/>\n",
       "<polyline clip-path=\"url(#clip920)\" style=\"stroke:#000000; stroke-linecap:round; stroke-linejoin:round; stroke-width:4; stroke-opacity:1; fill:none\" points=\"344.39,250.738 632.458,250.738 632.458,95.2176 344.39,95.2176 344.39,250.738 \"/>\n",
       "<circle clip-path=\"url(#clip920)\" cx=\"436.729\" cy=\"147.058\" r=\"23.04\" fill=\"#009af9\" fill-rule=\"evenodd\" fill-opacity=\"1\" stroke=\"#000000\" stroke-opacity=\"1\" stroke-width=\"5.12\"/>\n",
       "<path clip-path=\"url(#clip920)\" d=\"M551.202 139.562 Q551.202 139.89 550.991 140.663 L546.4 158.979 Q545.393 163.055 542.114 165.912 Q538.858 168.77 535.157 168.77 Q532.932 168.77 531.504 167.575 Q530.075 166.404 530.075 164.601 Q530.075 163.008 530.918 162.235 Q531.761 161.486 532.768 161.486 Q533.096 161.486 533.448 161.579 Q533.799 161.673 534.174 162.071 Q534.549 162.469 534.549 163.149 Q534.549 164.249 533.588 165.116 Q533.12 165.514 532.675 165.608 Q532.253 165.702 531.527 165.702 Q531.808 166.357 532.323 166.802 Q532.839 167.248 533.424 167.411 Q534.01 167.599 534.385 167.646 Q534.783 167.716 535.157 167.716 Q538.156 167.716 540.451 164.694 Q541.13 163.781 541.622 162.868 Q542.137 161.977 542.512 160.877 Q542.887 159.799 543.051 159.214 Q543.238 158.628 543.566 157.293 Q541.388 159.471 538.718 159.471 Q537.593 159.471 536.586 159.167 Q535.603 158.862 534.736 158.23 Q533.869 157.574 533.354 156.426 Q532.862 155.279 532.862 153.756 Q532.862 152.14 533.494 149.938 Q534.127 147.737 535.649 143.685 Q536.469 141.413 536.469 140.312 Q536.469 139.773 536.352 139.445 Q536.235 139.094 536.001 138.977 Q535.766 138.836 535.626 138.813 Q535.509 138.789 535.275 138.789 Q533.893 138.789 532.604 140.195 Q531.316 141.6 530.426 144.739 Q530.239 145.324 530.122 145.465 Q530.005 145.605 529.653 145.605 Q529.068 145.582 529.068 145.113 Q529.068 144.926 529.278 144.2 Q529.489 143.45 529.981 142.349 Q530.496 141.225 531.199 140.218 Q531.902 139.187 533.003 138.461 Q534.127 137.735 535.415 137.735 Q537.172 137.735 538.249 138.883 Q539.35 140.007 539.35 141.67 Q539.35 142.349 539.163 142.958 Q538.999 143.544 538.39 145.113 Q535.93 151.437 535.93 154.529 Q535.93 155.279 536.048 155.911 Q536.188 156.52 536.493 157.129 Q536.797 157.715 537.406 158.066 Q538.038 158.394 538.905 158.394 Q540.006 158.394 541.037 157.879 Q542.091 157.34 542.746 156.614 Q543.426 155.888 543.824 155.279 Q544.245 154.646 544.339 154.318 L546.494 145.699 L547.454 141.858 Q547.899 139.773 548.11 139.258 Q548.391 138.766 548.883 138.508 Q549.375 138.251 549.797 138.251 Q550.382 138.251 550.78 138.602 Q551.202 138.953 551.202 139.562 Z\" fill=\"#000000\" fill-rule=\"evenodd\" fill-opacity=\"1\" /><path clip-path=\"url(#clip920)\" d=\"M557.707 146.94 Q557.707 138.836 560.728 132.301 Q562.016 129.561 563.82 127.265 Q565.623 124.97 566.818 123.963 Q568.012 122.956 568.34 122.956 Q568.809 122.956 568.832 123.424 Q568.832 123.658 568.2 124.244 Q560.47 132.114 560.494 146.94 Q560.494 161.814 568.012 169.379 Q568.832 170.199 568.832 170.456 Q568.832 170.925 568.34 170.925 Q568.012 170.925 566.865 169.965 Q565.717 169.004 563.937 166.802 Q562.157 164.601 560.869 161.907 Q557.707 155.372 557.707 146.94 Z\" fill=\"#000000\" fill-rule=\"evenodd\" fill-opacity=\"1\" /><path clip-path=\"url(#clip920)\" d=\"M587.207 138.789 Q587.207 139.445 586.902 139.609 Q586.598 139.75 585.755 139.75 L581.258 139.75 L577.697 153.897 Q577.416 155.138 577.416 156.192 Q577.416 157.363 577.768 157.879 Q578.142 158.394 578.915 158.394 Q580.438 158.394 582.077 157.012 Q583.74 155.63 585.146 152.257 Q585.333 151.812 585.427 151.718 Q585.544 151.601 585.848 151.601 Q586.434 151.601 586.434 152.07 Q586.434 152.234 586.106 152.983 Q585.801 153.733 585.122 154.834 Q584.466 155.934 583.6 156.965 Q582.757 157.996 581.468 158.745 Q580.18 159.471 578.798 159.471 Q576.854 159.471 575.613 158.23 Q574.395 156.988 574.395 155.044 Q574.395 154.412 574.887 152.398 Q575.378 150.36 578.049 139.75 L573.809 139.75 Q573.224 139.75 572.989 139.726 Q572.779 139.703 572.615 139.586 Q572.474 139.445 572.474 139.164 Q572.474 138.719 572.661 138.532 Q572.849 138.321 573.083 138.297 Q573.341 138.251 573.926 138.251 L578.423 138.251 L580.297 130.638 Q580.485 129.889 580.953 129.467 Q581.445 129.022 581.726 128.975 Q582.007 128.905 582.218 128.905 Q582.85 128.905 583.225 129.256 Q583.6 129.584 583.6 130.193 Q583.6 130.521 581.632 138.251 L585.848 138.251 Q586.387 138.251 586.598 138.274 Q586.832 138.297 587.019 138.414 Q587.207 138.532 587.207 138.789 Z\" fill=\"#000000\" fill-rule=\"evenodd\" fill-opacity=\"1\" /><path clip-path=\"url(#clip920)\" d=\"M590.958 170.456 Q590.958 170.222 591.567 169.637 Q599.296 161.767 599.296 146.94 Q599.296 132.067 591.871 124.548 Q590.958 123.682 590.958 123.424 Q590.958 122.956 591.426 122.956 Q591.754 122.956 592.902 123.916 Q594.073 124.876 595.83 127.078 Q597.61 129.28 598.922 131.973 Q602.084 138.508 602.084 146.94 Q602.084 155.044 599.062 161.579 Q597.774 164.32 595.97 166.615 Q594.167 168.911 592.972 169.918 Q591.778 170.925 591.426 170.925 Q590.958 170.925 590.958 170.456 Z\" fill=\"#000000\" fill-rule=\"evenodd\" fill-opacity=\"1\" /><circle clip-path=\"url(#clip920)\" cx=\"436.729\" cy=\"198.898\" r=\"23.04\" fill=\"#e26f46\" fill-rule=\"evenodd\" fill-opacity=\"1\" stroke=\"#000000\" stroke-opacity=\"1\" stroke-width=\"5.12\"/>\n",
       "<path clip-path=\"url(#clip920)\" d=\"M550.653 183.801 L550.243 184.473 Q547.702 183.375 544.538 181.62 Q541.373 183.375 538.832 184.473 L538.438 183.801 Q541.209 181.391 544.538 179.538 Q547.899 181.407 550.653 183.801 Z\" fill=\"#000000\" fill-rule=\"evenodd\" fill-opacity=\"1\" /><path clip-path=\"url(#clip920)\" d=\"M552.202 191.402 Q552.202 191.73 551.991 192.503 L547.4 210.819 Q546.393 214.895 543.114 217.752 Q539.858 220.61 536.157 220.61 Q533.932 220.61 532.504 219.415 Q531.075 218.244 531.075 216.441 Q531.075 214.848 531.918 214.075 Q532.761 213.326 533.768 213.326 Q534.096 213.326 534.448 213.419 Q534.799 213.513 535.174 213.911 Q535.549 214.309 535.549 214.989 Q535.549 216.089 534.588 216.956 Q534.12 217.354 533.675 217.448 Q533.253 217.542 532.527 217.542 Q532.808 218.197 533.323 218.642 Q533.839 219.088 534.424 219.251 Q535.01 219.439 535.385 219.486 Q535.783 219.556 536.157 219.556 Q539.156 219.556 541.451 216.534 Q542.13 215.621 542.622 214.708 Q543.137 213.817 543.512 212.717 Q543.887 211.639 544.051 211.054 Q544.238 210.468 544.566 209.133 Q542.388 211.311 539.718 211.311 Q538.593 211.311 537.586 211.007 Q536.603 210.702 535.736 210.07 Q534.869 209.414 534.354 208.266 Q533.862 207.119 533.862 205.596 Q533.862 203.98 534.494 201.778 Q535.127 199.577 536.649 195.525 Q537.469 193.253 537.469 192.152 Q537.469 191.613 537.352 191.285 Q537.235 190.934 537.001 190.817 Q536.766 190.676 536.626 190.653 Q536.509 190.629 536.275 190.629 Q534.893 190.629 533.604 192.035 Q532.316 193.44 531.426 196.579 Q531.239 197.164 531.122 197.305 Q531.005 197.445 530.653 197.445 Q530.068 197.422 530.068 196.953 Q530.068 196.766 530.278 196.04 Q530.489 195.29 530.981 194.189 Q531.496 193.065 532.199 192.058 Q532.902 191.027 534.003 190.301 Q535.127 189.575 536.415 189.575 Q538.172 189.575 539.249 190.723 Q540.35 191.847 540.35 193.51 Q540.35 194.189 540.163 194.798 Q539.999 195.384 539.39 196.953 Q536.93 203.277 536.93 206.369 Q536.93 207.119 537.048 207.751 Q537.188 208.36 537.493 208.969 Q537.797 209.555 538.406 209.906 Q539.038 210.234 539.905 210.234 Q541.006 210.234 542.037 209.719 Q543.091 209.18 543.746 208.454 Q544.426 207.728 544.824 207.119 Q545.245 206.486 545.339 206.158 L547.494 197.539 L548.454 193.698 Q548.899 191.613 549.11 191.098 Q549.391 190.606 549.883 190.348 Q550.375 190.091 550.797 190.091 Q551.382 190.091 551.78 190.442 Q552.202 190.793 552.202 191.402 Z\" fill=\"#000000\" fill-rule=\"evenodd\" fill-opacity=\"1\" /><path clip-path=\"url(#clip920)\" d=\"M553.259 198.78 Q553.259 190.676 556.28 184.141 Q557.568 181.401 559.372 179.105 Q561.175 176.81 562.37 175.803 Q563.565 174.796 563.892 174.796 Q564.361 174.796 564.384 175.264 Q564.384 175.498 563.752 176.084 Q556.023 183.954 556.046 198.78 Q556.046 213.654 563.565 221.219 Q564.384 222.039 564.384 222.296 Q564.384 222.765 563.892 222.765 Q563.565 222.765 562.417 221.805 Q561.269 220.844 559.489 218.642 Q557.709 216.441 556.421 213.747 Q553.259 207.212 553.259 198.78 Z\" fill=\"#000000\" fill-rule=\"evenodd\" fill-opacity=\"1\" /><path clip-path=\"url(#clip920)\" d=\"M582.759 190.629 Q582.759 191.285 582.454 191.449 Q582.15 191.59 581.307 191.59 L576.81 191.59 L573.249 205.737 Q572.968 206.978 572.968 208.032 Q572.968 209.203 573.32 209.719 Q573.694 210.234 574.467 210.234 Q575.99 210.234 577.629 208.852 Q579.292 207.47 580.698 204.097 Q580.885 203.652 580.979 203.558 Q581.096 203.441 581.4 203.441 Q581.986 203.441 581.986 203.91 Q581.986 204.074 581.658 204.823 Q581.354 205.573 580.674 206.674 Q580.018 207.774 579.152 208.805 Q578.309 209.836 577.02 210.585 Q575.732 211.311 574.35 211.311 Q572.406 211.311 571.165 210.07 Q569.947 208.828 569.947 206.884 Q569.947 206.252 570.439 204.238 Q570.931 202.2 573.601 191.59 L569.361 191.59 Q568.776 191.59 568.541 191.566 Q568.331 191.543 568.167 191.426 Q568.026 191.285 568.026 191.004 Q568.026 190.559 568.214 190.372 Q568.401 190.161 568.635 190.137 Q568.893 190.091 569.478 190.091 L573.975 190.091 L575.849 182.478 Q576.037 181.729 576.505 181.307 Q576.997 180.862 577.278 180.815 Q577.559 180.745 577.77 180.745 Q578.402 180.745 578.777 181.096 Q579.152 181.424 579.152 182.033 Q579.152 182.361 577.184 190.091 L581.4 190.091 Q581.939 190.091 582.15 190.114 Q582.384 190.137 582.572 190.254 Q582.759 190.372 582.759 190.629 Z\" fill=\"#000000\" fill-rule=\"evenodd\" fill-opacity=\"1\" /><path clip-path=\"url(#clip920)\" d=\"M586.51 222.296 Q586.51 222.062 587.119 221.477 Q594.848 213.607 594.848 198.78 Q594.848 183.907 587.424 176.388 Q586.51 175.522 586.51 175.264 Q586.51 174.796 586.979 174.796 Q587.306 174.796 588.454 175.756 Q589.625 176.716 591.382 178.918 Q593.162 181.12 594.474 183.813 Q597.636 190.348 597.636 198.78 Q597.636 206.884 594.614 213.419 Q593.326 216.16 591.522 218.455 Q589.719 220.751 588.524 221.758 Q587.33 222.765 586.979 222.765 Q586.51 222.765 586.51 222.296 Z\" fill=\"#000000\" fill-rule=\"evenodd\" fill-opacity=\"1\" /></svg>\n"
      ]
     },
     "execution_count": 96,
     "metadata": {},
     "output_type": "execute_result"
    }
   ],
   "source": [
    "scatter(x.Level[train],ytrain,label=L\"y(t)\")\n",
    "scatter!(x.Level[train],yhat,label=L\"\\hat{y}(t)\")"
   ]
  },
  {
   "cell_type": "code",
   "execution_count": 94,
   "id": "5ed5fd86-dbe9-40c2-b74e-60a23567c124",
   "metadata": {
    "tags": []
   },
   "outputs": [
    {
     "data": {
      "image/svg+xml": [
       "<?xml version=\"1.0\" encoding=\"utf-8\"?>\n",
       "<svg xmlns=\"http://www.w3.org/2000/svg\" xmlns:xlink=\"http://www.w3.org/1999/xlink\" width=\"600\" height=\"400\" viewBox=\"0 0 2400 1600\">\n",
       "<defs>\n",
       "  <clipPath id=\"clip840\">\n",
       "    <rect x=\"0\" y=\"0\" width=\"2400\" height=\"1600\"/>\n",
       "  </clipPath>\n",
       "</defs>\n",
       "<path clip-path=\"url(#clip840)\" d=\"M0 1600 L2400 1600 L2400 0 L0 0  Z\" fill=\"#ffffff\" fill-rule=\"evenodd\" fill-opacity=\"1\"/>\n",
       "<defs>\n",
       "  <clipPath id=\"clip841\">\n",
       "    <rect x=\"480\" y=\"0\" width=\"1681\" height=\"1600\"/>\n",
       "  </clipPath>\n",
       "</defs>\n",
       "<defs>\n",
       "  <clipPath id=\"clip842\">\n",
       "    <rect x=\"275\" y=\"47\" width=\"2079\" height=\"1440\"/>\n",
       "  </clipPath>\n",
       "</defs>\n",
       "<path clip-path=\"url(#clip840)\" d=\"M275.136 1486.45 L2352.76 1486.45 L2352.76 47.2441 L275.136 47.2441  Z\" fill=\"#ffffff\" fill-rule=\"evenodd\" fill-opacity=\"1\"/>\n",
       "<polyline clip-path=\"url(#clip842)\" style=\"stroke:#000000; stroke-linecap:round; stroke-linejoin:round; stroke-width:2; stroke-opacity:0.1; fill:none\" points=\"551.717,1486.45 551.717,47.2441 \"/>\n",
       "<polyline clip-path=\"url(#clip842)\" style=\"stroke:#000000; stroke-linecap:round; stroke-linejoin:round; stroke-width:2; stroke-opacity:0.1; fill:none\" points=\"987.276,1486.45 987.276,47.2441 \"/>\n",
       "<polyline clip-path=\"url(#clip842)\" style=\"stroke:#000000; stroke-linecap:round; stroke-linejoin:round; stroke-width:2; stroke-opacity:0.1; fill:none\" points=\"1422.84,1486.45 1422.84,47.2441 \"/>\n",
       "<polyline clip-path=\"url(#clip842)\" style=\"stroke:#000000; stroke-linecap:round; stroke-linejoin:round; stroke-width:2; stroke-opacity:0.1; fill:none\" points=\"1858.4,1486.45 1858.4,47.2441 \"/>\n",
       "<polyline clip-path=\"url(#clip842)\" style=\"stroke:#000000; stroke-linecap:round; stroke-linejoin:round; stroke-width:2; stroke-opacity:0.1; fill:none\" points=\"2293.96,1486.45 2293.96,47.2441 \"/>\n",
       "<polyline clip-path=\"url(#clip840)\" style=\"stroke:#000000; stroke-linecap:round; stroke-linejoin:round; stroke-width:4; stroke-opacity:1; fill:none\" points=\"275.136,1486.45 2352.76,1486.45 \"/>\n",
       "<polyline clip-path=\"url(#clip840)\" style=\"stroke:#000000; stroke-linecap:round; stroke-linejoin:round; stroke-width:4; stroke-opacity:1; fill:none\" points=\"551.717,1486.45 551.717,1467.55 \"/>\n",
       "<polyline clip-path=\"url(#clip840)\" style=\"stroke:#000000; stroke-linecap:round; stroke-linejoin:round; stroke-width:4; stroke-opacity:1; fill:none\" points=\"987.276,1486.45 987.276,1467.55 \"/>\n",
       "<polyline clip-path=\"url(#clip840)\" style=\"stroke:#000000; stroke-linecap:round; stroke-linejoin:round; stroke-width:4; stroke-opacity:1; fill:none\" points=\"1422.84,1486.45 1422.84,1467.55 \"/>\n",
       "<polyline clip-path=\"url(#clip840)\" style=\"stroke:#000000; stroke-linecap:round; stroke-linejoin:round; stroke-width:4; stroke-opacity:1; fill:none\" points=\"1858.4,1486.45 1858.4,1467.55 \"/>\n",
       "<polyline clip-path=\"url(#clip840)\" style=\"stroke:#000000; stroke-linecap:round; stroke-linejoin:round; stroke-width:4; stroke-opacity:1; fill:none\" points=\"2293.96,1486.45 2293.96,1467.55 \"/>\n",
       "<path clip-path=\"url(#clip840)\" d=\"M546.37 1544.91 L562.689 1544.91 L562.689 1548.85 L540.745 1548.85 L540.745 1544.91 Q543.407 1542.16 547.99 1537.53 Q552.596 1532.88 553.777 1531.53 Q556.022 1529.01 556.902 1527.27 Q557.805 1525.51 557.805 1523.82 Q557.805 1521.07 555.86 1519.33 Q553.939 1517.6 550.837 1517.6 Q548.638 1517.6 546.184 1518.36 Q543.754 1519.13 540.976 1520.68 L540.976 1515.95 Q543.8 1514.82 546.254 1514.24 Q548.708 1513.66 550.745 1513.66 Q556.115 1513.66 559.309 1516.35 Q562.504 1519.03 562.504 1523.52 Q562.504 1525.65 561.694 1527.57 Q560.907 1529.47 558.8 1532.07 Q558.221 1532.74 555.12 1535.95 Q552.018 1539.15 546.37 1544.91 Z\" fill=\"#000000\" fill-rule=\"evenodd\" fill-opacity=\"1\" /><path clip-path=\"url(#clip840)\" d=\"M990.286 1518.36 L978.48 1536.81 L990.286 1536.81 L990.286 1518.36 M989.059 1514.29 L994.938 1514.29 L994.938 1536.81 L999.869 1536.81 L999.869 1540.7 L994.938 1540.7 L994.938 1548.85 L990.286 1548.85 L990.286 1540.7 L974.684 1540.7 L974.684 1536.19 L989.059 1514.29 Z\" fill=\"#000000\" fill-rule=\"evenodd\" fill-opacity=\"1\" /><path clip-path=\"url(#clip840)\" d=\"M1423.24 1529.7 Q1420.09 1529.7 1418.24 1531.86 Q1416.41 1534.01 1416.41 1537.76 Q1416.41 1541.49 1418.24 1543.66 Q1420.09 1545.82 1423.24 1545.82 Q1426.39 1545.82 1428.22 1543.66 Q1430.07 1541.49 1430.07 1537.76 Q1430.07 1534.01 1428.22 1531.86 Q1426.39 1529.7 1423.24 1529.7 M1432.52 1515.05 L1432.52 1519.31 Q1430.76 1518.48 1428.96 1518.04 Q1427.18 1517.6 1425.42 1517.6 Q1420.79 1517.6 1418.33 1520.72 Q1415.9 1523.85 1415.56 1530.17 Q1416.92 1528.15 1418.98 1527.09 Q1421.04 1526 1423.52 1526 Q1428.73 1526 1431.74 1529.17 Q1434.77 1532.32 1434.77 1537.76 Q1434.77 1543.08 1431.62 1546.3 Q1428.47 1549.52 1423.24 1549.52 Q1417.25 1549.52 1414.07 1544.94 Q1410.9 1540.33 1410.9 1531.6 Q1410.9 1523.41 1414.79 1518.55 Q1418.68 1513.66 1425.23 1513.66 Q1426.99 1513.66 1428.77 1514.01 Q1430.58 1514.36 1432.52 1515.05 Z\" fill=\"#000000\" fill-rule=\"evenodd\" fill-opacity=\"1\" /><path clip-path=\"url(#clip840)\" d=\"M1858.4 1532.44 Q1855.06 1532.44 1853.14 1534.22 Q1851.24 1536 1851.24 1539.13 Q1851.24 1542.25 1853.14 1544.03 Q1855.06 1545.82 1858.4 1545.82 Q1861.73 1545.82 1863.65 1544.03 Q1865.57 1542.23 1865.57 1539.13 Q1865.57 1536 1863.65 1534.22 Q1861.75 1532.44 1858.4 1532.44 M1853.72 1530.45 Q1850.71 1529.7 1849.02 1527.64 Q1847.35 1525.58 1847.35 1522.62 Q1847.35 1518.48 1850.29 1516.07 Q1853.26 1513.66 1858.4 1513.66 Q1863.56 1513.66 1866.5 1516.07 Q1869.44 1518.48 1869.44 1522.62 Q1869.44 1525.58 1867.75 1527.64 Q1866.08 1529.7 1863.09 1530.45 Q1866.47 1531.23 1868.35 1533.52 Q1870.25 1535.82 1870.25 1539.13 Q1870.25 1544.15 1867.17 1546.83 Q1864.11 1549.52 1858.4 1549.52 Q1852.68 1549.52 1849.6 1546.83 Q1846.54 1544.15 1846.54 1539.13 Q1846.54 1535.82 1848.44 1533.52 Q1850.34 1531.23 1853.72 1530.45 M1852.01 1523.06 Q1852.01 1525.75 1853.67 1527.25 Q1855.36 1528.76 1858.4 1528.76 Q1861.4 1528.76 1863.09 1527.25 Q1864.81 1525.75 1864.81 1523.06 Q1864.81 1520.38 1863.09 1518.87 Q1861.4 1517.37 1858.4 1517.37 Q1855.36 1517.37 1853.67 1518.87 Q1852.01 1520.38 1852.01 1523.06 Z\" fill=\"#000000\" fill-rule=\"evenodd\" fill-opacity=\"1\" /><path clip-path=\"url(#clip840)\" d=\"M2268.64 1544.91 L2276.28 1544.91 L2276.28 1518.55 L2267.97 1520.21 L2267.97 1515.95 L2276.24 1514.29 L2280.91 1514.29 L2280.91 1544.91 L2288.55 1544.91 L2288.55 1548.85 L2268.64 1548.85 L2268.64 1544.91 Z\" fill=\"#000000\" fill-rule=\"evenodd\" fill-opacity=\"1\" /><path clip-path=\"url(#clip840)\" d=\"M2307.99 1517.37 Q2304.38 1517.37 2302.55 1520.93 Q2300.75 1524.47 2300.75 1531.6 Q2300.75 1538.71 2302.55 1542.27 Q2304.38 1545.82 2307.99 1545.82 Q2311.63 1545.82 2313.43 1542.27 Q2315.26 1538.71 2315.26 1531.6 Q2315.26 1524.47 2313.43 1520.93 Q2311.63 1517.37 2307.99 1517.37 M2307.99 1513.66 Q2313.8 1513.66 2316.86 1518.27 Q2319.94 1522.85 2319.94 1531.6 Q2319.94 1540.33 2316.86 1544.94 Q2313.8 1549.52 2307.99 1549.52 Q2302.18 1549.52 2299.11 1544.94 Q2296.05 1540.33 2296.05 1531.6 Q2296.05 1522.85 2299.11 1518.27 Q2302.18 1513.66 2307.99 1513.66 Z\" fill=\"#000000\" fill-rule=\"evenodd\" fill-opacity=\"1\" /><polyline clip-path=\"url(#clip842)\" style=\"stroke:#000000; stroke-linecap:round; stroke-linejoin:round; stroke-width:2; stroke-opacity:0.1; fill:none\" points=\"275.136,1206.29 2352.76,1206.29 \"/>\n",
       "<polyline clip-path=\"url(#clip842)\" style=\"stroke:#000000; stroke-linecap:round; stroke-linejoin:round; stroke-width:2; stroke-opacity:0.1; fill:none\" points=\"275.136,923.193 2352.76,923.193 \"/>\n",
       "<polyline clip-path=\"url(#clip842)\" style=\"stroke:#000000; stroke-linecap:round; stroke-linejoin:round; stroke-width:2; stroke-opacity:0.1; fill:none\" points=\"275.136,640.095 2352.76,640.095 \"/>\n",
       "<polyline clip-path=\"url(#clip842)\" style=\"stroke:#000000; stroke-linecap:round; stroke-linejoin:round; stroke-width:2; stroke-opacity:0.1; fill:none\" points=\"275.136,356.997 2352.76,356.997 \"/>\n",
       "<polyline clip-path=\"url(#clip842)\" style=\"stroke:#000000; stroke-linecap:round; stroke-linejoin:round; stroke-width:2; stroke-opacity:0.1; fill:none\" points=\"275.136,73.8996 2352.76,73.8996 \"/>\n",
       "<polyline clip-path=\"url(#clip840)\" style=\"stroke:#000000; stroke-linecap:round; stroke-linejoin:round; stroke-width:4; stroke-opacity:1; fill:none\" points=\"275.136,1486.45 275.136,47.2441 \"/>\n",
       "<polyline clip-path=\"url(#clip840)\" style=\"stroke:#000000; stroke-linecap:round; stroke-linejoin:round; stroke-width:4; stroke-opacity:1; fill:none\" points=\"275.136,1206.29 294.034,1206.29 \"/>\n",
       "<polyline clip-path=\"url(#clip840)\" style=\"stroke:#000000; stroke-linecap:round; stroke-linejoin:round; stroke-width:4; stroke-opacity:1; fill:none\" points=\"275.136,923.193 294.034,923.193 \"/>\n",
       "<polyline clip-path=\"url(#clip840)\" style=\"stroke:#000000; stroke-linecap:round; stroke-linejoin:round; stroke-width:4; stroke-opacity:1; fill:none\" points=\"275.136,640.095 294.034,640.095 \"/>\n",
       "<polyline clip-path=\"url(#clip840)\" style=\"stroke:#000000; stroke-linecap:round; stroke-linejoin:round; stroke-width:4; stroke-opacity:1; fill:none\" points=\"275.136,356.997 294.034,356.997 \"/>\n",
       "<polyline clip-path=\"url(#clip840)\" style=\"stroke:#000000; stroke-linecap:round; stroke-linejoin:round; stroke-width:4; stroke-opacity:1; fill:none\" points=\"275.136,73.8996 294.034,73.8996 \"/>\n",
       "<path clip-path=\"url(#clip840)\" d=\"M57.7745 1226.08 L74.0939 1226.08 L74.0939 1230.02 L52.1495 1230.02 L52.1495 1226.08 Q54.8115 1223.33 59.3949 1218.7 Q64.0013 1214.05 65.1819 1212.7 Q67.4272 1210.18 68.3068 1208.44 Q69.2096 1206.69 69.2096 1205 Q69.2096 1202.24 67.2652 1200.5 Q65.3439 1198.77 62.2421 1198.77 Q60.043 1198.77 57.5893 1199.53 Q55.1588 1200.3 52.381 1201.85 L52.381 1197.12 Q55.2051 1195.99 57.6588 1195.41 Q60.1124 1194.83 62.1495 1194.83 Q67.5198 1194.83 70.7142 1197.52 Q73.9087 1200.2 73.9087 1204.69 Q73.9087 1206.82 73.0985 1208.75 Q72.3115 1210.64 70.205 1213.24 Q69.6263 1213.91 66.5245 1217.12 Q63.4226 1220.32 57.7745 1226.08 Z\" fill=\"#000000\" fill-rule=\"evenodd\" fill-opacity=\"1\" /><path clip-path=\"url(#clip840)\" d=\"M83.9086 1224.14 L88.7928 1224.14 L88.7928 1230.02 L83.9086 1230.02 L83.9086 1224.14 Z\" fill=\"#000000\" fill-rule=\"evenodd\" fill-opacity=\"1\" /><path clip-path=\"url(#clip840)\" d=\"M108.978 1198.54 Q105.367 1198.54 103.538 1202.1 Q101.733 1205.64 101.733 1212.77 Q101.733 1219.88 103.538 1223.44 Q105.367 1226.99 108.978 1226.99 Q112.612 1226.99 114.418 1223.44 Q116.246 1219.88 116.246 1212.77 Q116.246 1205.64 114.418 1202.1 Q112.612 1198.54 108.978 1198.54 M108.978 1194.83 Q114.788 1194.83 117.844 1199.44 Q120.922 1204.02 120.922 1212.77 Q120.922 1221.5 117.844 1226.11 Q114.788 1230.69 108.978 1230.69 Q103.168 1230.69 100.089 1226.11 Q97.0335 1221.5 97.0335 1212.77 Q97.0335 1204.02 100.089 1199.44 Q103.168 1194.83 108.978 1194.83 Z\" fill=\"#000000\" fill-rule=\"evenodd\" fill-opacity=\"1\" /><path clip-path=\"url(#clip840)\" d=\"M157.311 1204.56 L146.732 1215.18 L157.311 1225.76 L154.556 1228.56 L143.931 1217.93 L133.306 1228.56 L130.575 1225.76 L141.131 1215.18 L130.575 1204.56 L133.306 1201.75 L143.931 1212.38 L154.556 1201.75 L157.311 1204.56 Z\" fill=\"#000000\" fill-rule=\"evenodd\" fill-opacity=\"1\" /><path clip-path=\"url(#clip840)\" d=\"M169.672 1226.08 L177.311 1226.08 L177.311 1199.72 L169.001 1201.38 L169.001 1197.12 L177.265 1195.46 L181.94 1195.46 L181.94 1226.08 L189.579 1226.08 L189.579 1230.02 L169.672 1230.02 L169.672 1226.08 Z\" fill=\"#000000\" fill-rule=\"evenodd\" fill-opacity=\"1\" /><path clip-path=\"url(#clip840)\" d=\"M209.024 1198.54 Q205.413 1198.54 203.584 1202.1 Q201.778 1205.64 201.778 1212.77 Q201.778 1219.88 203.584 1223.44 Q205.413 1226.99 209.024 1226.99 Q212.658 1226.99 214.463 1223.44 Q216.292 1219.88 216.292 1212.77 Q216.292 1205.64 214.463 1202.1 Q212.658 1198.54 209.024 1198.54 M209.024 1194.83 Q214.834 1194.83 217.889 1199.44 Q220.968 1204.02 220.968 1212.77 Q220.968 1221.5 217.889 1226.11 Q214.834 1230.69 209.024 1230.69 Q203.214 1230.69 200.135 1226.11 Q197.079 1221.5 197.079 1212.77 Q197.079 1204.02 200.135 1199.44 Q203.214 1194.83 209.024 1194.83 Z\" fill=\"#000000\" fill-rule=\"evenodd\" fill-opacity=\"1\" /><path clip-path=\"url(#clip840)\" d=\"M222.153 1174.53 L237.068 1174.53 L237.068 1177.73 L225.632 1177.73 L225.632 1184.61 Q226.46 1184.33 227.287 1184.2 Q228.115 1184.04 228.943 1184.04 Q233.645 1184.04 236.39 1186.62 Q239.136 1189.2 239.136 1193.6 Q239.136 1198.13 236.315 1200.65 Q233.494 1203.15 228.36 1203.15 Q226.592 1203.15 224.748 1202.85 Q222.924 1202.55 220.968 1201.95 L220.968 1198.13 Q222.661 1199.05 224.466 1199.5 Q226.272 1199.96 228.284 1199.96 Q231.538 1199.96 233.438 1198.24 Q235.337 1196.53 235.337 1193.6 Q235.337 1190.66 233.438 1188.95 Q231.538 1187.24 228.284 1187.24 Q226.761 1187.24 225.237 1187.58 Q223.733 1187.92 222.153 1188.63 L222.153 1174.53 Z\" fill=\"#000000\" fill-rule=\"evenodd\" fill-opacity=\"1\" /><path clip-path=\"url(#clip840)\" d=\"M66.5939 916.435 L54.7884 934.884 L66.5939 934.884 L66.5939 916.435 M65.367 912.36 L71.2466 912.36 L71.2466 934.884 L76.1772 934.884 L76.1772 938.772 L71.2466 938.772 L71.2466 946.92 L66.5939 946.92 L66.5939 938.772 L50.9921 938.772 L50.9921 934.259 L65.367 912.36 Z\" fill=\"#000000\" fill-rule=\"evenodd\" fill-opacity=\"1\" /><path clip-path=\"url(#clip840)\" d=\"M83.9086 941.041 L88.7928 941.041 L88.7928 946.92 L83.9086 946.92 L83.9086 941.041 Z\" fill=\"#000000\" fill-rule=\"evenodd\" fill-opacity=\"1\" /><path clip-path=\"url(#clip840)\" d=\"M108.978 915.439 Q105.367 915.439 103.538 919.004 Q101.733 922.546 101.733 929.675 Q101.733 936.782 103.538 940.346 Q105.367 943.888 108.978 943.888 Q112.612 943.888 114.418 940.346 Q116.246 936.782 116.246 929.675 Q116.246 922.546 114.418 919.004 Q112.612 915.439 108.978 915.439 M108.978 911.735 Q114.788 911.735 117.844 916.342 Q120.922 920.925 120.922 929.675 Q120.922 938.402 117.844 943.008 Q114.788 947.592 108.978 947.592 Q103.168 947.592 100.089 943.008 Q97.0335 938.402 97.0335 929.675 Q97.0335 920.925 100.089 916.342 Q103.168 911.735 108.978 911.735 Z\" fill=\"#000000\" fill-rule=\"evenodd\" fill-opacity=\"1\" /><path clip-path=\"url(#clip840)\" d=\"M157.311 921.458 L146.732 932.083 L157.311 942.661 L154.556 945.462 L143.931 934.837 L133.306 945.462 L130.575 942.661 L141.131 932.083 L130.575 921.458 L133.306 918.657 L143.931 929.282 L154.556 918.657 L157.311 921.458 Z\" fill=\"#000000\" fill-rule=\"evenodd\" fill-opacity=\"1\" /><path clip-path=\"url(#clip840)\" d=\"M169.672 942.985 L177.311 942.985 L177.311 916.62 L169.001 918.286 L169.001 914.027 L177.265 912.36 L181.94 912.36 L181.94 942.985 L189.579 942.985 L189.579 946.92 L169.672 946.92 L169.672 942.985 Z\" fill=\"#000000\" fill-rule=\"evenodd\" fill-opacity=\"1\" /><path clip-path=\"url(#clip840)\" d=\"M209.024 915.439 Q205.413 915.439 203.584 919.004 Q201.778 922.546 201.778 929.675 Q201.778 936.782 203.584 940.346 Q205.413 943.888 209.024 943.888 Q212.658 943.888 214.463 940.346 Q216.292 936.782 216.292 929.675 Q216.292 922.546 214.463 919.004 Q212.658 915.439 209.024 915.439 M209.024 911.735 Q214.834 911.735 217.889 916.342 Q220.968 920.925 220.968 929.675 Q220.968 938.402 217.889 943.008 Q214.834 947.592 209.024 947.592 Q203.214 947.592 200.135 943.008 Q197.079 938.402 197.079 929.675 Q197.079 920.925 200.135 916.342 Q203.214 911.735 209.024 911.735 Z\" fill=\"#000000\" fill-rule=\"evenodd\" fill-opacity=\"1\" /><path clip-path=\"url(#clip840)\" d=\"M222.153 891.43 L237.068 891.43 L237.068 894.627 L225.632 894.627 L225.632 901.511 Q226.46 901.229 227.287 901.097 Q228.115 900.947 228.943 900.947 Q233.645 900.947 236.39 903.523 Q239.136 906.1 239.136 910.501 Q239.136 915.034 236.315 917.554 Q233.494 920.056 228.36 920.056 Q226.592 920.056 224.748 919.755 Q222.924 919.454 220.968 918.852 L220.968 915.034 Q222.661 915.955 224.466 916.407 Q226.272 916.858 228.284 916.858 Q231.538 916.858 233.438 915.147 Q235.337 913.435 235.337 910.501 Q235.337 907.567 233.438 905.856 Q231.538 904.144 228.284 904.144 Q226.761 904.144 225.237 904.483 Q223.733 904.821 222.153 905.536 L222.153 891.43 Z\" fill=\"#000000\" fill-rule=\"evenodd\" fill-opacity=\"1\" /><path clip-path=\"url(#clip840)\" d=\"M64.3254 644.679 Q61.1773 644.679 59.3254 646.832 Q57.4967 648.985 57.4967 652.735 Q57.4967 656.462 59.3254 658.638 Q61.1773 660.79 64.3254 660.79 Q67.4735 660.79 69.3022 658.638 Q71.1541 656.462 71.1541 652.735 Q71.1541 648.985 69.3022 646.832 Q67.4735 644.679 64.3254 644.679 M73.6077 630.027 L73.6077 634.286 Q71.8485 633.453 70.0429 633.013 Q68.2606 632.573 66.5013 632.573 Q61.8717 632.573 59.418 635.698 Q56.9875 638.823 56.6402 645.142 Q58.006 643.128 60.0662 642.064 Q62.1263 640.976 64.6032 640.976 Q69.8115 640.976 72.8207 644.147 Q75.8531 647.295 75.8531 652.735 Q75.8531 658.059 72.705 661.276 Q69.5568 664.494 64.3254 664.494 Q58.33 664.494 55.1588 659.911 Q51.9875 655.304 51.9875 646.577 Q51.9875 638.383 55.8764 633.522 Q59.7652 628.638 66.3161 628.638 Q68.0754 628.638 69.8578 628.985 Q71.6633 629.332 73.6077 630.027 Z\" fill=\"#000000\" fill-rule=\"evenodd\" fill-opacity=\"1\" /><path clip-path=\"url(#clip840)\" d=\"M83.9086 657.943 L88.7928 657.943 L88.7928 663.823 L83.9086 663.823 L83.9086 657.943 Z\" fill=\"#000000\" fill-rule=\"evenodd\" fill-opacity=\"1\" /><path clip-path=\"url(#clip840)\" d=\"M108.978 632.341 Q105.367 632.341 103.538 635.906 Q101.733 639.448 101.733 646.577 Q101.733 653.684 103.538 657.249 Q105.367 660.79 108.978 660.79 Q112.612 660.79 114.418 657.249 Q116.246 653.684 116.246 646.577 Q116.246 639.448 114.418 635.906 Q112.612 632.341 108.978 632.341 M108.978 628.638 Q114.788 628.638 117.844 633.244 Q120.922 637.828 120.922 646.577 Q120.922 655.304 117.844 659.911 Q114.788 664.494 108.978 664.494 Q103.168 664.494 100.089 659.911 Q97.0335 655.304 97.0335 646.577 Q97.0335 637.828 100.089 633.244 Q103.168 628.638 108.978 628.638 Z\" fill=\"#000000\" fill-rule=\"evenodd\" fill-opacity=\"1\" /><path clip-path=\"url(#clip840)\" d=\"M157.311 638.36 L146.732 648.985 L157.311 659.563 L154.556 662.364 L143.931 651.739 L133.306 662.364 L130.575 659.563 L141.131 648.985 L130.575 638.36 L133.306 635.559 L143.931 646.184 L154.556 635.559 L157.311 638.36 Z\" fill=\"#000000\" fill-rule=\"evenodd\" fill-opacity=\"1\" /><path clip-path=\"url(#clip840)\" d=\"M169.672 659.888 L177.311 659.888 L177.311 633.522 L169.001 635.189 L169.001 630.929 L177.265 629.263 L181.94 629.263 L181.94 659.888 L189.579 659.888 L189.579 663.823 L169.672 663.823 L169.672 659.888 Z\" fill=\"#000000\" fill-rule=\"evenodd\" fill-opacity=\"1\" /><path clip-path=\"url(#clip840)\" d=\"M209.024 632.341 Q205.413 632.341 203.584 635.906 Q201.778 639.448 201.778 646.577 Q201.778 653.684 203.584 657.249 Q205.413 660.79 209.024 660.79 Q212.658 660.79 214.463 657.249 Q216.292 653.684 216.292 646.577 Q216.292 639.448 214.463 635.906 Q212.658 632.341 209.024 632.341 M209.024 628.638 Q214.834 628.638 217.889 633.244 Q220.968 637.828 220.968 646.577 Q220.968 655.304 217.889 659.911 Q214.834 664.494 209.024 664.494 Q203.214 664.494 200.135 659.911 Q197.079 655.304 197.079 646.577 Q197.079 637.828 200.135 633.244 Q203.214 628.638 209.024 628.638 Z\" fill=\"#000000\" fill-rule=\"evenodd\" fill-opacity=\"1\" /><path clip-path=\"url(#clip840)\" d=\"M222.153 608.332 L237.068 608.332 L237.068 611.53 L225.632 611.53 L225.632 618.413 Q226.46 618.131 227.287 618 Q228.115 617.849 228.943 617.849 Q233.645 617.849 236.39 620.426 Q239.136 623.002 239.136 627.403 Q239.136 631.936 236.315 634.456 Q233.494 636.958 228.36 636.958 Q226.592 636.958 224.748 636.657 Q222.924 636.356 220.968 635.754 L220.968 631.936 Q222.661 632.858 224.466 633.309 Q226.272 633.76 228.284 633.76 Q231.538 633.76 233.438 632.049 Q235.337 630.337 235.337 627.403 Q235.337 624.469 233.438 622.758 Q231.538 621.046 228.284 621.046 Q226.761 621.046 225.237 621.385 Q223.733 621.723 222.153 622.438 L222.153 608.332 Z\" fill=\"#000000\" fill-rule=\"evenodd\" fill-opacity=\"1\" /><path clip-path=\"url(#clip840)\" d=\"M63.7467 364.313 Q60.4134 364.313 58.4921 366.095 Q56.5939 367.878 56.5939 371.003 Q56.5939 374.128 58.4921 375.91 Q60.4134 377.693 63.7467 377.693 Q67.08 377.693 69.0013 375.91 Q70.9226 374.105 70.9226 371.003 Q70.9226 367.878 69.0013 366.095 Q67.1032 364.313 63.7467 364.313 M59.0708 362.322 Q56.0615 361.582 54.3717 359.521 Q52.7051 357.461 52.7051 354.498 Q52.7051 350.355 55.6449 347.947 Q58.6078 345.54 63.7467 345.54 Q68.9087 345.54 71.8485 347.947 Q74.7883 350.355 74.7883 354.498 Q74.7883 357.461 73.0985 359.521 Q71.4318 361.582 68.4457 362.322 Q71.8253 363.109 73.7003 365.401 Q75.5985 367.693 75.5985 371.003 Q75.5985 376.026 72.5198 378.711 Q69.4642 381.396 63.7467 381.396 Q58.0291 381.396 54.9504 378.711 Q51.8949 376.026 51.8949 371.003 Q51.8949 367.693 53.793 365.401 Q55.6912 363.109 59.0708 362.322 M57.3578 354.938 Q57.3578 357.623 59.0245 359.128 Q60.7143 360.633 63.7467 360.633 Q66.7559 360.633 68.4457 359.128 Q70.1587 357.623 70.1587 354.938 Q70.1587 352.253 68.4457 350.748 Q66.7559 349.244 63.7467 349.244 Q60.7143 349.244 59.0245 350.748 Q57.3578 352.253 57.3578 354.938 Z\" fill=\"#000000\" fill-rule=\"evenodd\" fill-opacity=\"1\" /><path clip-path=\"url(#clip840)\" d=\"M83.9086 374.845 L88.7928 374.845 L88.7928 380.725 L83.9086 380.725 L83.9086 374.845 Z\" fill=\"#000000\" fill-rule=\"evenodd\" fill-opacity=\"1\" /><path clip-path=\"url(#clip840)\" d=\"M108.978 349.244 Q105.367 349.244 103.538 352.808 Q101.733 356.35 101.733 363.48 Q101.733 370.586 103.538 374.151 Q105.367 377.693 108.978 377.693 Q112.612 377.693 114.418 374.151 Q116.246 370.586 116.246 363.48 Q116.246 356.35 114.418 352.808 Q112.612 349.244 108.978 349.244 M108.978 345.54 Q114.788 345.54 117.844 350.146 Q120.922 354.73 120.922 363.48 Q120.922 372.207 117.844 376.813 Q114.788 381.396 108.978 381.396 Q103.168 381.396 100.089 376.813 Q97.0335 372.207 97.0335 363.48 Q97.0335 354.73 100.089 350.146 Q103.168 345.54 108.978 345.54 Z\" fill=\"#000000\" fill-rule=\"evenodd\" fill-opacity=\"1\" /><path clip-path=\"url(#clip840)\" d=\"M157.311 355.262 L146.732 365.887 L157.311 376.466 L154.556 379.267 L143.931 368.642 L133.306 379.267 L130.575 376.466 L141.131 365.887 L130.575 355.262 L133.306 352.461 L143.931 363.086 L154.556 352.461 L157.311 355.262 Z\" fill=\"#000000\" fill-rule=\"evenodd\" fill-opacity=\"1\" /><path clip-path=\"url(#clip840)\" d=\"M169.672 376.79 L177.311 376.79 L177.311 350.424 L169.001 352.091 L169.001 347.832 L177.265 346.165 L181.94 346.165 L181.94 376.79 L189.579 376.79 L189.579 380.725 L169.672 380.725 L169.672 376.79 Z\" fill=\"#000000\" fill-rule=\"evenodd\" fill-opacity=\"1\" /><path clip-path=\"url(#clip840)\" d=\"M209.024 349.244 Q205.413 349.244 203.584 352.808 Q201.778 356.35 201.778 363.48 Q201.778 370.586 203.584 374.151 Q205.413 377.693 209.024 377.693 Q212.658 377.693 214.463 374.151 Q216.292 370.586 216.292 363.48 Q216.292 356.35 214.463 352.808 Q212.658 349.244 209.024 349.244 M209.024 345.54 Q214.834 345.54 217.889 350.146 Q220.968 354.73 220.968 363.48 Q220.968 372.207 217.889 376.813 Q214.834 381.396 209.024 381.396 Q203.214 381.396 200.135 376.813 Q197.079 372.207 197.079 363.48 Q197.079 354.73 200.135 350.146 Q203.214 345.54 209.024 345.54 Z\" fill=\"#000000\" fill-rule=\"evenodd\" fill-opacity=\"1\" /><path clip-path=\"url(#clip840)\" d=\"M222.153 325.235 L237.068 325.235 L237.068 328.432 L225.632 328.432 L225.632 335.316 Q226.46 335.033 227.287 334.902 Q228.115 334.751 228.943 334.751 Q233.645 334.751 236.39 337.328 Q239.136 339.905 239.136 344.306 Q239.136 348.838 236.315 351.359 Q233.494 353.86 228.36 353.86 Q226.592 353.86 224.748 353.559 Q222.924 353.258 220.968 352.656 L220.968 348.838 Q222.661 349.76 224.466 350.211 Q226.272 350.663 228.284 350.663 Q231.538 350.663 233.438 348.951 Q235.337 347.24 235.337 344.306 Q235.337 341.372 233.438 339.66 Q231.538 337.949 228.284 337.949 Q226.761 337.949 225.237 338.287 Q223.733 338.626 222.153 339.34 L222.153 325.235 Z\" fill=\"#000000\" fill-rule=\"evenodd\" fill-opacity=\"1\" /><path clip-path=\"url(#clip840)\" d=\"M53.3344 93.6921 L60.9733 93.6921 L60.9733 67.3265 L52.6631 68.9931 L52.6631 64.7339 L60.927 63.0672 L65.6029 63.0672 L65.6029 93.6921 L73.2417 93.6921 L73.2417 97.6272 L53.3344 97.6272 L53.3344 93.6921 Z\" fill=\"#000000\" fill-rule=\"evenodd\" fill-opacity=\"1\" /><path clip-path=\"url(#clip840)\" d=\"M82.6861 91.7476 L87.5703 91.7476 L87.5703 97.6272 L82.6861 97.6272 L82.6861 91.7476 Z\" fill=\"#000000\" fill-rule=\"evenodd\" fill-opacity=\"1\" /><path clip-path=\"url(#clip840)\" d=\"M107.755 66.1459 Q104.144 66.1459 102.316 69.7107 Q100.51 73.2524 100.51 80.382 Q100.51 87.4884 102.316 91.0532 Q104.144 94.5948 107.755 94.5948 Q111.39 94.5948 113.195 91.0532 Q115.024 87.4884 115.024 80.382 Q115.024 73.2524 113.195 69.7107 Q111.39 66.1459 107.755 66.1459 M107.755 62.4422 Q113.566 62.4422 116.621 67.0487 Q119.7 71.632 119.7 80.382 Q119.7 89.1088 116.621 93.7152 Q113.566 98.2985 107.755 98.2985 Q101.945 98.2985 98.8666 93.7152 Q95.811 89.1088 95.811 80.382 Q95.811 71.632 98.8666 67.0487 Q101.945 62.4422 107.755 62.4422 Z\" fill=\"#000000\" fill-rule=\"evenodd\" fill-opacity=\"1\" /><path clip-path=\"url(#clip840)\" d=\"M156.088 72.1644 L145.51 82.7894 L156.088 93.368 L153.334 96.1689 L142.709 85.544 L132.084 96.1689 L129.353 93.368 L139.908 82.7894 L129.353 72.1644 L132.084 69.3635 L142.709 79.9884 L153.334 69.3635 L156.088 72.1644 Z\" fill=\"#000000\" fill-rule=\"evenodd\" fill-opacity=\"1\" /><path clip-path=\"url(#clip840)\" d=\"M168.45 93.6921 L176.088 93.6921 L176.088 67.3265 L167.778 68.9931 L167.778 64.7339 L176.042 63.0672 L180.718 63.0672 L180.718 93.6921 L188.357 93.6921 L188.357 97.6272 L168.45 97.6272 L168.45 93.6921 Z\" fill=\"#000000\" fill-rule=\"evenodd\" fill-opacity=\"1\" /><path clip-path=\"url(#clip840)\" d=\"M207.801 66.1459 Q204.19 66.1459 202.361 69.7107 Q200.556 73.2524 200.556 80.382 Q200.556 87.4884 202.361 91.0532 Q204.19 94.5948 207.801 94.5948 Q211.435 94.5948 213.241 91.0532 Q215.07 87.4884 215.07 80.382 Q215.07 73.2524 213.241 69.7107 Q211.435 66.1459 207.801 66.1459 M207.801 62.4422 Q213.611 62.4422 216.667 67.0487 Q219.746 71.632 219.746 80.382 Q219.746 89.1088 216.667 93.7152 Q213.611 98.2985 207.801 98.2985 Q201.991 98.2985 198.912 93.7152 Q195.857 89.1088 195.857 80.382 Q195.857 71.632 198.912 67.0487 Q201.991 62.4422 207.801 62.4422 Z\" fill=\"#000000\" fill-rule=\"evenodd\" fill-opacity=\"1\" /><path clip-path=\"url(#clip840)\" d=\"M229.77 54.6628 Q227.212 54.6628 225.708 56.4119 Q224.222 58.1611 224.222 61.2079 Q224.222 64.236 225.708 66.0039 Q227.212 67.753 229.77 67.753 Q232.328 67.753 233.814 66.0039 Q235.318 64.236 235.318 61.2079 Q235.318 58.1611 233.814 56.4119 Q232.328 54.6628 229.77 54.6628 M237.312 42.7575 L237.312 46.2181 Q235.883 45.541 234.416 45.1837 Q232.967 44.8264 231.538 44.8264 Q227.776 44.8264 225.783 47.3654 Q223.808 49.9044 223.526 55.039 Q224.636 53.4027 226.309 52.5375 Q227.983 51.6536 229.996 51.6536 Q234.228 51.6536 236.673 54.2302 Q239.136 56.7881 239.136 61.2079 Q239.136 65.5337 236.579 68.148 Q234.021 70.7623 229.77 70.7623 Q224.899 70.7623 222.322 67.0383 Q219.746 63.2956 219.746 56.2051 Q219.746 49.5471 222.905 45.5975 Q226.065 41.629 231.388 41.629 Q232.817 41.629 234.265 41.9111 Q235.732 42.1933 237.312 42.7575 Z\" fill=\"#000000\" fill-rule=\"evenodd\" fill-opacity=\"1\" /><circle clip-path=\"url(#clip842)\" cx=\"2076.18\" cy=\"744.603\" r=\"14.4\" fill=\"#009af9\" fill-rule=\"evenodd\" fill-opacity=\"1\" stroke=\"#000000\" stroke-opacity=\"1\" stroke-width=\"3.2\"/>\n",
       "<circle clip-path=\"url(#clip842)\" cx=\"1640.62\" cy=\"1224.92\" r=\"14.4\" fill=\"#009af9\" fill-rule=\"evenodd\" fill-opacity=\"1\" stroke=\"#000000\" stroke-opacity=\"1\" stroke-width=\"3.2\"/>\n",
       "<circle clip-path=\"url(#clip842)\" cx=\"1422.84\" cy=\"1278.49\" r=\"14.4\" fill=\"#009af9\" fill-rule=\"evenodd\" fill-opacity=\"1\" stroke=\"#000000\" stroke-opacity=\"1\" stroke-width=\"3.2\"/>\n",
       "<circle clip-path=\"url(#clip842)\" cx=\"987.276\" cy=\"1348.52\" r=\"14.4\" fill=\"#009af9\" fill-rule=\"evenodd\" fill-opacity=\"1\" stroke=\"#000000\" stroke-opacity=\"1\" stroke-width=\"3.2\"/>\n",
       "<circle clip-path=\"url(#clip842)\" cx=\"2293.96\" cy=\"87.9763\" r=\"14.4\" fill=\"#009af9\" fill-rule=\"evenodd\" fill-opacity=\"1\" stroke=\"#000000\" stroke-opacity=\"1\" stroke-width=\"3.2\"/>\n",
       "<circle clip-path=\"url(#clip842)\" cx=\"333.937\" cy=\"1413.91\" r=\"14.4\" fill=\"#009af9\" fill-rule=\"evenodd\" fill-opacity=\"1\" stroke=\"#000000\" stroke-opacity=\"1\" stroke-width=\"3.2\"/>\n",
       "<circle clip-path=\"url(#clip842)\" cx=\"1858.4\" cy=\"1079.96\" r=\"14.4\" fill=\"#009af9\" fill-rule=\"evenodd\" fill-opacity=\"1\" stroke=\"#000000\" stroke-opacity=\"1\" stroke-width=\"3.2\"/>\n",
       "<circle clip-path=\"url(#clip842)\" cx=\"551.717\" cy=\"1445.72\" r=\"14.4\" fill=\"#009af9\" fill-rule=\"evenodd\" fill-opacity=\"1\" stroke=\"#000000\" stroke-opacity=\"1\" stroke-width=\"3.2\"/>\n",
       "<path clip-path=\"url(#clip840)\" d=\"M344.39 198.898 L628.01 198.898 L628.01 95.2176 L344.39 95.2176  Z\" fill=\"#ffffff\" fill-rule=\"evenodd\" fill-opacity=\"1\"/>\n",
       "<polyline clip-path=\"url(#clip840)\" style=\"stroke:#000000; stroke-linecap:round; stroke-linejoin:round; stroke-width:4; stroke-opacity:1; fill:none\" points=\"344.39,198.898 628.01,198.898 628.01,95.2176 344.39,95.2176 344.39,198.898 \"/>\n",
       "<circle clip-path=\"url(#clip840)\" cx=\"436.729\" cy=\"147.058\" r=\"23.04\" fill=\"#009af9\" fill-rule=\"evenodd\" fill-opacity=\"1\" stroke=\"#000000\" stroke-opacity=\"1\" stroke-width=\"5.12\"/>\n",
       "<path clip-path=\"url(#clip840)\" d=\"M550.653 131.961 L550.243 132.633 Q547.702 131.535 544.538 129.78 Q541.373 131.535 538.832 132.633 L538.438 131.961 Q541.209 129.551 544.538 127.698 Q547.899 129.567 550.653 131.961 Z\" fill=\"#000000\" fill-rule=\"evenodd\" fill-opacity=\"1\" /><path clip-path=\"url(#clip840)\" d=\"M552.202 139.562 Q552.202 139.89 551.991 140.663 L547.4 158.979 Q546.393 163.055 543.114 165.912 Q539.858 168.77 536.157 168.77 Q533.932 168.77 532.504 167.575 Q531.075 166.404 531.075 164.601 Q531.075 163.008 531.918 162.235 Q532.761 161.486 533.768 161.486 Q534.096 161.486 534.448 161.579 Q534.799 161.673 535.174 162.071 Q535.549 162.469 535.549 163.149 Q535.549 164.249 534.588 165.116 Q534.12 165.514 533.675 165.608 Q533.253 165.702 532.527 165.702 Q532.808 166.357 533.323 166.802 Q533.839 167.248 534.424 167.411 Q535.01 167.599 535.385 167.646 Q535.783 167.716 536.157 167.716 Q539.156 167.716 541.451 164.694 Q542.13 163.781 542.622 162.868 Q543.137 161.977 543.512 160.877 Q543.887 159.799 544.051 159.214 Q544.238 158.628 544.566 157.293 Q542.388 159.471 539.718 159.471 Q538.593 159.471 537.586 159.167 Q536.603 158.862 535.736 158.23 Q534.869 157.574 534.354 156.426 Q533.862 155.279 533.862 153.756 Q533.862 152.14 534.494 149.938 Q535.127 147.737 536.649 143.685 Q537.469 141.413 537.469 140.312 Q537.469 139.773 537.352 139.445 Q537.235 139.094 537.001 138.977 Q536.766 138.836 536.626 138.813 Q536.509 138.789 536.275 138.789 Q534.893 138.789 533.604 140.195 Q532.316 141.6 531.426 144.739 Q531.239 145.324 531.122 145.465 Q531.005 145.605 530.653 145.605 Q530.068 145.582 530.068 145.113 Q530.068 144.926 530.278 144.2 Q530.489 143.45 530.981 142.349 Q531.496 141.225 532.199 140.218 Q532.902 139.187 534.003 138.461 Q535.127 137.735 536.415 137.735 Q538.172 137.735 539.249 138.883 Q540.35 140.007 540.35 141.67 Q540.35 142.349 540.163 142.958 Q539.999 143.544 539.39 145.113 Q536.93 151.437 536.93 154.529 Q536.93 155.279 537.048 155.911 Q537.188 156.52 537.493 157.129 Q537.797 157.715 538.406 158.066 Q539.038 158.394 539.905 158.394 Q541.006 158.394 542.037 157.879 Q543.091 157.34 543.746 156.614 Q544.426 155.888 544.824 155.279 Q545.245 154.646 545.339 154.318 L547.494 145.699 L548.454 141.858 Q548.899 139.773 549.11 139.258 Q549.391 138.766 549.883 138.508 Q550.375 138.251 550.797 138.251 Q551.382 138.251 551.78 138.602 Q552.202 138.953 552.202 139.562 Z\" fill=\"#000000\" fill-rule=\"evenodd\" fill-opacity=\"1\" /><path clip-path=\"url(#clip840)\" d=\"M553.259 146.94 Q553.259 138.836 556.28 132.301 Q557.568 129.561 559.372 127.265 Q561.175 124.97 562.37 123.963 Q563.565 122.956 563.892 122.956 Q564.361 122.956 564.384 123.424 Q564.384 123.658 563.752 124.244 Q556.023 132.114 556.046 146.94 Q556.046 161.814 563.565 169.379 Q564.384 170.199 564.384 170.456 Q564.384 170.925 563.892 170.925 Q563.565 170.925 562.417 169.965 Q561.269 169.004 559.489 166.802 Q557.709 164.601 556.421 161.907 Q553.259 155.372 553.259 146.94 Z\" fill=\"#000000\" fill-rule=\"evenodd\" fill-opacity=\"1\" /><path clip-path=\"url(#clip840)\" d=\"M582.759 138.789 Q582.759 139.445 582.454 139.609 Q582.15 139.75 581.307 139.75 L576.81 139.75 L573.249 153.897 Q572.968 155.138 572.968 156.192 Q572.968 157.363 573.32 157.879 Q573.694 158.394 574.467 158.394 Q575.99 158.394 577.629 157.012 Q579.292 155.63 580.698 152.257 Q580.885 151.812 580.979 151.718 Q581.096 151.601 581.4 151.601 Q581.986 151.601 581.986 152.07 Q581.986 152.234 581.658 152.983 Q581.354 153.733 580.674 154.834 Q580.018 155.934 579.152 156.965 Q578.309 157.996 577.02 158.745 Q575.732 159.471 574.35 159.471 Q572.406 159.471 571.165 158.23 Q569.947 156.988 569.947 155.044 Q569.947 154.412 570.439 152.398 Q570.931 150.36 573.601 139.75 L569.361 139.75 Q568.776 139.75 568.541 139.726 Q568.331 139.703 568.167 139.586 Q568.026 139.445 568.026 139.164 Q568.026 138.719 568.214 138.532 Q568.401 138.321 568.635 138.297 Q568.893 138.251 569.478 138.251 L573.975 138.251 L575.849 130.638 Q576.037 129.889 576.505 129.467 Q576.997 129.022 577.278 128.975 Q577.559 128.905 577.77 128.905 Q578.402 128.905 578.777 129.256 Q579.152 129.584 579.152 130.193 Q579.152 130.521 577.184 138.251 L581.4 138.251 Q581.939 138.251 582.15 138.274 Q582.384 138.297 582.572 138.414 Q582.759 138.532 582.759 138.789 Z\" fill=\"#000000\" fill-rule=\"evenodd\" fill-opacity=\"1\" /><path clip-path=\"url(#clip840)\" d=\"M586.51 170.456 Q586.51 170.222 587.119 169.637 Q594.848 161.767 594.848 146.94 Q594.848 132.067 587.424 124.548 Q586.51 123.682 586.51 123.424 Q586.51 122.956 586.979 122.956 Q587.306 122.956 588.454 123.916 Q589.625 124.876 591.382 127.078 Q593.162 129.28 594.474 131.973 Q597.636 138.508 597.636 146.94 Q597.636 155.044 594.614 161.579 Q593.326 164.32 591.522 166.615 Q589.719 168.911 588.524 169.918 Q587.33 170.925 586.979 170.925 Q586.51 170.925 586.51 170.456 Z\" fill=\"#000000\" fill-rule=\"evenodd\" fill-opacity=\"1\" /></svg>\n"
      ]
     },
     "execution_count": 94,
     "metadata": {},
     "output_type": "execute_result"
    }
   ],
   "source": [
    "scatter(x.Level[train],yhat,label=L\"\\hat{y}(t)\")"
   ]
  },
  {
   "cell_type": "code",
   "execution_count": null,
   "id": "29177206-7b31-4c75-b469-ecd21f269194",
   "metadata": {},
   "outputs": [],
   "source": []
  },
  {
   "cell_type": "code",
   "execution_count": null,
   "id": "556a3957-a69d-4946-9b8e-2555372a1c03",
   "metadata": {},
   "outputs": [],
   "source": []
  }
 ],
 "metadata": {
  "kernelspec": {
   "display_name": "Julia 1.8.2",
   "language": "julia",
   "name": "julia-1.8"
  },
  "language_info": {
   "file_extension": ".jl",
   "mimetype": "application/julia",
   "name": "julia",
   "version": "1.8.2"
  }
 },
 "nbformat": 4,
 "nbformat_minor": 5
}
